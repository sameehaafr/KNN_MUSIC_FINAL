{
 "cells": [
  {
   "cell_type": "code",
   "execution_count": 2,
   "metadata": {},
   "outputs": [
    {
     "name": "stdout",
     "output_type": "stream",
     "text": [
      "Collecting spotipy\n",
      "  Using cached spotipy-2.23.0-py3-none-any.whl (29 kB)\n",
      "Collecting urllib3>=1.26.0\n",
      "  Using cached urllib3-2.0.3-py3-none-any.whl (123 kB)\n",
      "Requirement already satisfied: six>=1.15.0 in ./env/lib/python3.8/site-packages (from spotipy) (1.16.0)\n",
      "Collecting requests>=2.25.0\n",
      "  Using cached requests-2.31.0-py3-none-any.whl (62 kB)\n",
      "Collecting redis>=3.5.3\n",
      "  Using cached redis-4.6.0-py3-none-any.whl (241 kB)\n",
      "Collecting idna<4,>=2.5\n",
      "  Using cached idna-3.4-py3-none-any.whl (61 kB)\n",
      "Collecting certifi>=2017.4.17\n",
      "  Using cached certifi-2023.5.7-py3-none-any.whl (156 kB)\n",
      "Collecting charset-normalizer<4,>=2\n",
      "  Using cached charset_normalizer-3.2.0-cp38-cp38-macosx_10_9_x86_64.whl (124 kB)\n",
      "Collecting async-timeout>=4.0.2; python_full_version <= \"3.11.2\"\n",
      "  Using cached async_timeout-4.0.2-py3-none-any.whl (5.8 kB)\n",
      "Installing collected packages: urllib3, idna, certifi, charset-normalizer, requests, async-timeout, redis, spotipy\n",
      "Successfully installed async-timeout-4.0.2 certifi-2023.5.7 charset-normalizer-3.2.0 idna-3.4 redis-4.6.0 requests-2.31.0 spotipy-2.23.0 urllib3-2.0.3\n",
      "\u001b[33mWARNING: You are using pip version 20.1.1; however, version 23.1.2 is available.\n",
      "You should consider upgrading via the '/Users/sameehaafr/Code/KNN_MUSIC_FINAL/env/bin/python -m pip install --upgrade pip' command.\u001b[0m\n",
      "Note: you may need to restart the kernel to use updated packages.\n",
      "Collecting pandas\n",
      "  Using cached pandas-2.0.3-cp38-cp38-macosx_10_9_x86_64.whl (11.7 MB)\n",
      "Collecting pytz>=2020.1\n",
      "  Using cached pytz-2023.3-py2.py3-none-any.whl (502 kB)\n",
      "Collecting tzdata>=2022.1\n",
      "  Using cached tzdata-2023.3-py2.py3-none-any.whl (341 kB)\n",
      "Collecting numpy>=1.20.3; python_version < \"3.10\"\n",
      "  Using cached numpy-1.24.4-cp38-cp38-macosx_10_9_x86_64.whl (19.8 MB)\n",
      "Requirement already satisfied: python-dateutil>=2.8.2 in ./env/lib/python3.8/site-packages (from pandas) (2.8.2)\n",
      "Requirement already satisfied: six>=1.5 in ./env/lib/python3.8/site-packages (from python-dateutil>=2.8.2->pandas) (1.16.0)\n",
      "Installing collected packages: pytz, tzdata, numpy, pandas\n",
      "Successfully installed numpy-1.24.4 pandas-2.0.3 pytz-2023.3 tzdata-2023.3\n",
      "\u001b[33mWARNING: You are using pip version 20.1.1; however, version 23.1.2 is available.\n",
      "You should consider upgrading via the '/Users/sameehaafr/Code/KNN_MUSIC_FINAL/env/bin/python -m pip install --upgrade pip' command.\u001b[0m\n",
      "Note: you may need to restart the kernel to use updated packages.\n",
      "Collecting streamlit\n",
      "  Using cached streamlit-1.24.1-py2.py3-none-any.whl (8.9 MB)\n",
      "Requirement already satisfied: packaging<24,>=14.1 in ./env/lib/python3.8/site-packages (from streamlit) (23.1)\n",
      "Collecting altair<6,>=4.0\n",
      "  Using cached altair-5.0.1-py3-none-any.whl (471 kB)\n",
      "Collecting cachetools<6,>=4.0\n",
      "  Using cached cachetools-5.3.1-py3-none-any.whl (9.3 kB)\n",
      "Requirement already satisfied: tornado<7,>=6.0.3 in ./env/lib/python3.8/site-packages (from streamlit) (6.3.2)\n",
      "Requirement already satisfied: python-dateutil<3,>=2 in ./env/lib/python3.8/site-packages (from streamlit) (2.8.2)\n",
      "Collecting pillow<10,>=6.2.0\n",
      "  Using cached Pillow-9.5.0-cp38-cp38-macosx_10_10_x86_64.whl (3.4 MB)\n",
      "Collecting click<9,>=7.0\n",
      "  Using cached click-8.1.4-py3-none-any.whl (98 kB)\n",
      "Requirement already satisfied: requests<3,>=2.4 in ./env/lib/python3.8/site-packages (from streamlit) (2.31.0)\n",
      "Collecting blinker<2,>=1.0.0\n",
      "  Using cached blinker-1.6.2-py3-none-any.whl (13 kB)\n",
      "Collecting pyarrow>=4.0\n",
      "  Using cached pyarrow-12.0.1-cp38-cp38-macosx_10_14_x86_64.whl (24.7 MB)\n",
      "Collecting rich<14,>=10.11.0\n",
      "  Using cached rich-13.4.2-py3-none-any.whl (239 kB)\n",
      "Collecting gitpython!=3.1.19,<4,>=3\n",
      "  Using cached GitPython-3.1.32-py3-none-any.whl (188 kB)\n",
      "Requirement already satisfied: numpy<2,>=1 in ./env/lib/python3.8/site-packages (from streamlit) (1.24.4)\n",
      "Requirement already satisfied: typing-extensions<5,>=4.0.1 in ./env/lib/python3.8/site-packages (from streamlit) (4.7.1)\n",
      "Collecting pympler<2,>=0.9\n",
      "  Using cached Pympler-1.0.1-py3-none-any.whl (164 kB)\n",
      "Requirement already satisfied: pandas<3,>=0.25 in ./env/lib/python3.8/site-packages (from streamlit) (2.0.3)\n",
      "Collecting tenacity<9,>=8.0.0\n",
      "  Using cached tenacity-8.2.2-py3-none-any.whl (24 kB)\n",
      "Requirement already satisfied: importlib-metadata<7,>=1.4 in ./env/lib/python3.8/site-packages (from streamlit) (6.8.0)\n",
      "Processing /Users/sameehaafr/Library/Caches/pip/wheels/19/09/72/3eb74d236bb48bd0f3c6c3c83e4e0c5bbfcbcad7c6c3539db8/validators-0.20.0-py3-none-any.whl\n",
      "Collecting tzlocal<5,>=1.1\n",
      "  Using cached tzlocal-4.3.1-py3-none-any.whl (20 kB)\n",
      "Collecting pydeck<1,>=0.1.dev5\n",
      "  Using cached pydeck-0.8.1b0-py2.py3-none-any.whl (4.8 MB)\n",
      "Collecting toml<2\n",
      "  Using cached toml-0.10.2-py2.py3-none-any.whl (16 kB)\n",
      "Collecting protobuf<5,>=3.20\n",
      "  Using cached protobuf-4.23.4-py3-none-any.whl (173 kB)\n",
      "Collecting toolz\n",
      "  Using cached toolz-0.12.0-py3-none-any.whl (55 kB)\n",
      "Requirement already satisfied: jsonschema>=3.0 in ./env/lib/python3.8/site-packages (from altair<6,>=4.0->streamlit) (4.18.0)\n",
      "Collecting jinja2\n",
      "  Using cached Jinja2-3.1.2-py3-none-any.whl (133 kB)\n",
      "Requirement already satisfied: six>=1.5 in ./env/lib/python3.8/site-packages (from python-dateutil<3,>=2->streamlit) (1.16.0)\n",
      "Requirement already satisfied: idna<4,>=2.5 in ./env/lib/python3.8/site-packages (from requests<3,>=2.4->streamlit) (3.4)\n",
      "Requirement already satisfied: charset-normalizer<4,>=2 in ./env/lib/python3.8/site-packages (from requests<3,>=2.4->streamlit) (3.2.0)\n",
      "Requirement already satisfied: urllib3<3,>=1.21.1 in ./env/lib/python3.8/site-packages (from requests<3,>=2.4->streamlit) (2.0.3)\n",
      "Requirement already satisfied: certifi>=2017.4.17 in ./env/lib/python3.8/site-packages (from requests<3,>=2.4->streamlit) (2023.5.7)\n",
      "Requirement already satisfied: pygments<3.0.0,>=2.13.0 in ./env/lib/python3.8/site-packages (from rich<14,>=10.11.0->streamlit) (2.15.1)\n",
      "Collecting markdown-it-py>=2.2.0\n",
      "  Using cached markdown_it_py-3.0.0-py3-none-any.whl (87 kB)\n",
      "Collecting gitdb<5,>=4.0.1\n",
      "  Using cached gitdb-4.0.10-py3-none-any.whl (62 kB)\n",
      "Requirement already satisfied: tzdata>=2022.1 in ./env/lib/python3.8/site-packages (from pandas<3,>=0.25->streamlit) (2023.3)\n",
      "Requirement already satisfied: pytz>=2020.1 in ./env/lib/python3.8/site-packages (from pandas<3,>=0.25->streamlit) (2023.3)\n",
      "Requirement already satisfied: zipp>=0.5 in ./env/lib/python3.8/site-packages (from importlib-metadata<7,>=1.4->streamlit) (3.16.0)\n",
      "Requirement already satisfied: decorator>=3.4.0 in ./env/lib/python3.8/site-packages (from validators<1,>=0.2->streamlit) (5.1.1)\n",
      "Collecting pytz-deprecation-shim\n",
      "  Using cached pytz_deprecation_shim-0.1.0.post0-py2.py3-none-any.whl (15 kB)\n",
      "Collecting backports.zoneinfo; python_version < \"3.9\"\n",
      "  Using cached backports.zoneinfo-0.2.1-cp38-cp38-macosx_10_14_x86_64.whl (35 kB)\n",
      "Requirement already satisfied: pkgutil-resolve-name>=1.3.10; python_version < \"3.9\" in ./env/lib/python3.8/site-packages (from jsonschema>=3.0->altair<6,>=4.0->streamlit) (1.3.10)\n",
      "Requirement already satisfied: attrs>=22.2.0 in ./env/lib/python3.8/site-packages (from jsonschema>=3.0->altair<6,>=4.0->streamlit) (23.1.0)\n",
      "Requirement already satisfied: jsonschema-specifications>=2023.03.6 in ./env/lib/python3.8/site-packages (from jsonschema>=3.0->altair<6,>=4.0->streamlit) (2023.6.1)\n",
      "Requirement already satisfied: importlib-resources>=1.4.0; python_version < \"3.9\" in ./env/lib/python3.8/site-packages (from jsonschema>=3.0->altair<6,>=4.0->streamlit) (6.0.0)\n",
      "Requirement already satisfied: referencing>=0.28.4 in ./env/lib/python3.8/site-packages (from jsonschema>=3.0->altair<6,>=4.0->streamlit) (0.29.1)\n",
      "Requirement already satisfied: rpds-py>=0.7.1 in ./env/lib/python3.8/site-packages (from jsonschema>=3.0->altair<6,>=4.0->streamlit) (0.8.10)\n",
      "Collecting MarkupSafe>=2.0\n",
      "  Using cached MarkupSafe-2.1.3-cp38-cp38-macosx_10_9_x86_64.whl (13 kB)\n",
      "Collecting mdurl~=0.1\n",
      "  Using cached mdurl-0.1.2-py3-none-any.whl (10.0 kB)\n",
      "Collecting smmap<6,>=3.0.1\n",
      "  Using cached smmap-5.0.0-py3-none-any.whl (24 kB)\n",
      "Installing collected packages: toolz, MarkupSafe, jinja2, altair, cachetools, pillow, click, blinker, pyarrow, mdurl, markdown-it-py, rich, smmap, gitdb, gitpython, pympler, tenacity, validators, backports.zoneinfo, pytz-deprecation-shim, tzlocal, pydeck, toml, protobuf, streamlit\n",
      "Successfully installed MarkupSafe-2.1.3 altair-5.0.1 backports.zoneinfo-0.2.1 blinker-1.6.2 cachetools-5.3.1 click-8.1.4 gitdb-4.0.10 gitpython-3.1.32 jinja2-3.1.2 markdown-it-py-3.0.0 mdurl-0.1.2 pillow-9.5.0 protobuf-4.23.4 pyarrow-12.0.1 pydeck-0.8.1b0 pympler-1.0.1 pytz-deprecation-shim-0.1.0.post0 rich-13.4.2 smmap-5.0.0 streamlit-1.24.1 tenacity-8.2.2 toml-0.10.2 toolz-0.12.0 tzlocal-4.3.1 validators-0.20.0\n",
      "\u001b[33mWARNING: You are using pip version 20.1.1; however, version 23.1.2 is available.\n",
      "You should consider upgrading via the '/Users/sameehaafr/Code/KNN_MUSIC_FINAL/env/bin/python -m pip install --upgrade pip' command.\u001b[0m\n",
      "Note: you may need to restart the kernel to use updated packages.\n",
      "Collecting plotly\n",
      "  Using cached plotly-5.15.0-py2.py3-none-any.whl (15.5 MB)\n",
      "Requirement already satisfied: packaging in ./env/lib/python3.8/site-packages (from plotly) (23.1)\n",
      "Requirement already satisfied: tenacity>=6.2.0 in ./env/lib/python3.8/site-packages (from plotly) (8.2.2)\n",
      "Installing collected packages: plotly\n",
      "Successfully installed plotly-5.15.0\n",
      "\u001b[33mWARNING: You are using pip version 20.1.1; however, version 23.1.2 is available.\n",
      "You should consider upgrading via the '/Users/sameehaafr/Code/KNN_MUSIC_FINAL/env/bin/python -m pip install --upgrade pip' command.\u001b[0m\n",
      "Note: you may need to restart the kernel to use updated packages.\n",
      "Collecting matplotlib\n",
      "  Using cached matplotlib-3.7.2-cp38-cp38-macosx_10_12_x86_64.whl (7.4 MB)\n",
      "Collecting fonttools>=4.22.0\n",
      "  Using cached fonttools-4.40.0-cp38-cp38-macosx_10_9_x86_64.whl (2.1 MB)\n",
      "Collecting pyparsing<3.1,>=2.3.1\n",
      "  Using cached pyparsing-3.0.9-py3-none-any.whl (98 kB)\n",
      "Requirement already satisfied: python-dateutil>=2.7 in ./env/lib/python3.8/site-packages (from matplotlib) (2.8.2)\n",
      "Requirement already satisfied: pillow>=6.2.0 in ./env/lib/python3.8/site-packages (from matplotlib) (9.5.0)\n",
      "Collecting contourpy>=1.0.1\n",
      "  Using cached contourpy-1.1.0-cp38-cp38-macosx_10_9_x86_64.whl (243 kB)\n",
      "Collecting kiwisolver>=1.0.1\n",
      "  Using cached kiwisolver-1.4.4-cp38-cp38-macosx_10_9_x86_64.whl (65 kB)\n",
      "Requirement already satisfied: importlib-resources>=3.2.0; python_version < \"3.10\" in ./env/lib/python3.8/site-packages (from matplotlib) (6.0.0)\n",
      "Collecting cycler>=0.10\n",
      "  Using cached cycler-0.11.0-py3-none-any.whl (6.4 kB)\n",
      "Requirement already satisfied: packaging>=20.0 in ./env/lib/python3.8/site-packages (from matplotlib) (23.1)\n",
      "Requirement already satisfied: numpy>=1.20 in ./env/lib/python3.8/site-packages (from matplotlib) (1.24.4)\n",
      "Requirement already satisfied: six>=1.5 in ./env/lib/python3.8/site-packages (from python-dateutil>=2.7->matplotlib) (1.16.0)\n",
      "Requirement already satisfied: zipp>=3.1.0; python_version < \"3.10\" in ./env/lib/python3.8/site-packages (from importlib-resources>=3.2.0; python_version < \"3.10\"->matplotlib) (3.16.0)\n",
      "Installing collected packages: fonttools, pyparsing, contourpy, kiwisolver, cycler, matplotlib\n",
      "Successfully installed contourpy-1.1.0 cycler-0.11.0 fonttools-4.40.0 kiwisolver-1.4.4 matplotlib-3.7.2 pyparsing-3.0.9\n",
      "\u001b[33mWARNING: You are using pip version 20.1.1; however, version 23.1.2 is available.\n",
      "You should consider upgrading via the '/Users/sameehaafr/Code/KNN_MUSIC_FINAL/env/bin/python -m pip install --upgrade pip' command.\u001b[0m\n",
      "Note: you may need to restart the kernel to use updated packages.\n",
      "Collecting scikit-learn\n",
      "  Using cached scikit_learn-1.3.0-cp38-cp38-macosx_10_9_x86_64.whl (10.1 MB)\n",
      "Collecting threadpoolctl>=2.0.0\n",
      "  Using cached threadpoolctl-3.1.0-py3-none-any.whl (14 kB)\n",
      "Requirement already satisfied: numpy>=1.17.3 in ./env/lib/python3.8/site-packages (from scikit-learn) (1.24.4)\n",
      "Collecting scipy>=1.5.0\n",
      "  Using cached scipy-1.10.1-cp38-cp38-macosx_10_9_x86_64.whl (35.0 MB)\n",
      "Collecting joblib>=1.1.1\n",
      "  Using cached joblib-1.3.1-py3-none-any.whl (301 kB)\n",
      "Installing collected packages: threadpoolctl, scipy, joblib, scikit-learn\n",
      "Successfully installed joblib-1.3.1 scikit-learn-1.3.0 scipy-1.10.1 threadpoolctl-3.1.0\n",
      "\u001b[33mWARNING: You are using pip version 20.1.1; however, version 23.1.2 is available.\n",
      "You should consider upgrading via the '/Users/sameehaafr/Code/KNN_MUSIC_FINAL/env/bin/python -m pip install --upgrade pip' command.\u001b[0m\n",
      "Note: you may need to restart the kernel to use updated packages.\n"
     ]
    }
   ],
   "source": [
    "%pip install spotipy\n",
    "%pip install pandas\n",
    "%pip install streamlit\n",
    "%pip install plotly\n",
    "%pip install matplotlib\n",
    "%pip install scikit-learn"
   ]
  },
  {
   "cell_type": "code",
   "execution_count": 21,
   "metadata": {},
   "outputs": [
    {
     "name": "stdout",
     "output_type": "stream",
     "text": [
      "Collecting nbformat\n",
      "  Using cached nbformat-5.9.1-py3-none-any.whl (77 kB)\n",
      "Collecting fastjsonschema\n",
      "  Using cached fastjsonschema-2.17.1-py3-none-any.whl (23 kB)\n",
      "Collecting traitlets>=5.1\n",
      "  Using cached traitlets-5.9.0-py3-none-any.whl (117 kB)\n",
      "Collecting jupyter-core\n",
      "  Using cached jupyter_core-5.3.1-py3-none-any.whl (93 kB)\n",
      "Collecting jsonschema>=2.6\n",
      "  Using cached jsonschema-4.18.0-py3-none-any.whl (81 kB)\n",
      "Collecting platformdirs>=2.5\n",
      "  Using cached platformdirs-3.8.1-py3-none-any.whl (16 kB)\n",
      "Collecting rpds-py>=0.7.1\n",
      "  Using cached rpds_py-0.8.10-cp38-cp38-macosx_10_7_x86_64.whl (311 kB)\n",
      "Collecting jsonschema-specifications>=2023.03.6\n",
      "  Using cached jsonschema_specifications-2023.6.1-py3-none-any.whl (17 kB)\n",
      "Collecting attrs>=22.2.0\n",
      "  Using cached attrs-23.1.0-py3-none-any.whl (61 kB)\n",
      "Collecting referencing>=0.28.4\n",
      "  Using cached referencing-0.29.1-py3-none-any.whl (25 kB)\n",
      "Collecting pkgutil-resolve-name>=1.3.10; python_version < \"3.9\"\n",
      "  Using cached pkgutil_resolve_name-1.3.10-py3-none-any.whl (4.7 kB)\n",
      "Collecting importlib-resources>=1.4.0; python_version < \"3.9\"\n",
      "  Using cached importlib_resources-6.0.0-py3-none-any.whl (31 kB)\n",
      "Collecting zipp>=3.1.0; python_version < \"3.10\"\n",
      "  Using cached zipp-3.16.0-py3-none-any.whl (6.7 kB)\n",
      "Installing collected packages: fastjsonschema, traitlets, platformdirs, jupyter-core, rpds-py, attrs, referencing, zipp, importlib-resources, jsonschema-specifications, pkgutil-resolve-name, jsonschema, nbformat\n",
      "Successfully installed attrs-23.1.0 fastjsonschema-2.17.1 importlib-resources-6.0.0 jsonschema-4.18.0 jsonschema-specifications-2023.6.1 jupyter-core-5.3.1 nbformat-5.9.1 pkgutil-resolve-name-1.3.10 platformdirs-3.8.1 referencing-0.29.1 rpds-py-0.8.10 traitlets-5.9.0 zipp-3.16.0\n",
      "\u001b[33mWARNING: You are using pip version 20.1.1; however, version 23.1.2 is available.\n",
      "You should consider upgrading via the '/Users/sameehaafr/Code/KNN_MUSIC_FINAL/env/bin/python -m pip install --upgrade pip' command.\u001b[0m\n",
      "Note: you may need to restart the kernel to use updated packages.\n"
     ]
    }
   ],
   "source": [
    "%pip install --upgrade nbformat"
   ]
  },
  {
   "cell_type": "code",
   "execution_count": 1,
   "metadata": {},
   "outputs": [],
   "source": [
    "import spotipy\n",
    "import warnings\n",
    "import pandas as pd\n",
    "import streamlit as st\n",
    "import plotly.express as px \n",
    "import matplotlib.pyplot as plt\n",
    "from sklearn.manifold import TSNE\n",
    "from sklearn.cluster import KMeans\n",
    "from sklearn.pipeline import Pipeline\n",
    "from sklearn.metrics import silhouette_score\n",
    "from sklearn.preprocessing import StandardScaler\n",
    "from sklearn.neighbors import KNeighborsClassifier\n",
    "from spotipy.oauth2 import SpotifyClientCredentials\n",
    "\n",
    "warnings.filterwarnings(\"ignore\")"
   ]
  },
  {
   "cell_type": "code",
   "execution_count": 5,
   "metadata": {},
   "outputs": [],
   "source": [
    "CLIENT_ID = \"3e28cbdec0e841c08ec2d6b9b949cef1\"\n",
    "CLIENT_SECRET = \"857ea858725348e09cbeb6f1470bcbac\"\n",
    "\n",
    "COLS = ['acousticness', 'danceability', 'energy', 'instrumentalness', 'loudness', 'speechiness', 'tempo', 'valence']\n",
    "\n",
    "\n",
    "POP1 = '37i9dQZF1DXcBWIGoYBM5M'\n",
    "HH1 = '37i9dQZF1DX0XUsuxWHRQd'\n",
    "COUNTRY1 = '37i9dQZF1DX1lVhptIYRda'\n",
    "LATIN1 = '37i9dQZF1DX10zKzsJ2jva'\n",
    "ROCK1 = '37i9dQZF1DXcF6B6QPhFDv'\n",
    "EDM1 = '37i9dQZF1DX4dyzvuaRJ0n'\n",
    "INDIE1 = '37i9dQZF1DXdwmD5Q7Gxah'\n",
    "RB1 = '37i9dQZF1DX4SBhb3fqCJd'\n",
    "JAZZ1 = '37i9dQZF1DX7YCknf2jT6s'\n",
    "METAL1 = '37i9dQZF1DWXNFSTtym834'\n",
    "playlist_arr = [POP1, HH1, COUNTRY1, LATIN1, ROCK1, EDM1, INDIE1, RB1, JAZZ1, METAL1]\n",
    "client_credentials_manager = SpotifyClientCredentials(client_id=CLIENT_ID, client_secret=CLIENT_SECRET)\n",
    "sp = spotipy.Spotify(client_credentials_manager=client_credentials_manager)"
   ]
  },
  {
   "cell_type": "code",
   "execution_count": 17,
   "metadata": {},
   "outputs": [
    {
     "ename": "KeyboardInterrupt",
     "evalue": "",
     "output_type": "error",
     "traceback": [
      "\u001b[0;31m---------------------------------------------------------------------------\u001b[0m",
      "\u001b[0;31mKeyboardInterrupt\u001b[0m                         Traceback (most recent call last)",
      "Cell \u001b[0;32mIn[17], line 12\u001b[0m\n\u001b[1;32m     10\u001b[0m track_name \u001b[39m=\u001b[39m track_info[\u001b[39m'\u001b[39m\u001b[39mname\u001b[39m\u001b[39m'\u001b[39m]\n\u001b[1;32m     11\u001b[0m artist_name \u001b[39m=\u001b[39m track_info[\u001b[39m'\u001b[39m\u001b[39martists\u001b[39m\u001b[39m'\u001b[39m][\u001b[39m0\u001b[39m][\u001b[39m'\u001b[39m\u001b[39mname\u001b[39m\u001b[39m'\u001b[39m]\n\u001b[0;32m---> 12\u001b[0m audio_features \u001b[39m=\u001b[39m sp\u001b[39m.\u001b[39;49maudio_features(track_info[\u001b[39m'\u001b[39;49m\u001b[39mid\u001b[39;49m\u001b[39m'\u001b[39;49m])[\u001b[39m0\u001b[39m]\n\u001b[1;32m     13\u001b[0m genres \u001b[39m=\u001b[39m sp\u001b[39m.\u001b[39martist(track_info[\u001b[39m'\u001b[39m\u001b[39martists\u001b[39m\u001b[39m'\u001b[39m][\u001b[39m0\u001b[39m][\u001b[39m'\u001b[39m\u001b[39mid\u001b[39m\u001b[39m'\u001b[39m])[\u001b[39m'\u001b[39m\u001b[39mgenres\u001b[39m\u001b[39m'\u001b[39m]\n\u001b[1;32m     15\u001b[0m \u001b[39mif\u001b[39;00m audio_features \u001b[39mis\u001b[39;00m \u001b[39mnot\u001b[39;00m \u001b[39mNone\u001b[39;00m \u001b[39mand\u001b[39;00m genres \u001b[39mis\u001b[39;00m \u001b[39mnot\u001b[39;00m \u001b[39mNone\u001b[39;00m:\n",
      "File \u001b[0;32m~/Code/KNN_MUSIC_FINAL/env/lib/python3.8/site-packages/spotipy/client.py:1734\u001b[0m, in \u001b[0;36mSpotify.audio_features\u001b[0;34m(self, tracks)\u001b[0m\n\u001b[1;32m   1732\u001b[0m \u001b[39mif\u001b[39;00m \u001b[39misinstance\u001b[39m(tracks, \u001b[39mstr\u001b[39m):\n\u001b[1;32m   1733\u001b[0m     trackid \u001b[39m=\u001b[39m \u001b[39mself\u001b[39m\u001b[39m.\u001b[39m_get_id(\u001b[39m\"\u001b[39m\u001b[39mtrack\u001b[39m\u001b[39m\"\u001b[39m, tracks)\n\u001b[0;32m-> 1734\u001b[0m     results \u001b[39m=\u001b[39m \u001b[39mself\u001b[39;49m\u001b[39m.\u001b[39;49m_get(\u001b[39m\"\u001b[39;49m\u001b[39maudio-features/?ids=\u001b[39;49m\u001b[39m\"\u001b[39;49m \u001b[39m+\u001b[39;49m trackid)\n\u001b[1;32m   1735\u001b[0m \u001b[39melse\u001b[39;00m:\n\u001b[1;32m   1736\u001b[0m     tlist \u001b[39m=\u001b[39m [\u001b[39mself\u001b[39m\u001b[39m.\u001b[39m_get_id(\u001b[39m\"\u001b[39m\u001b[39mtrack\u001b[39m\u001b[39m\"\u001b[39m, t) \u001b[39mfor\u001b[39;00m t \u001b[39min\u001b[39;00m tracks]\n",
      "File \u001b[0;32m~/Code/KNN_MUSIC_FINAL/env/lib/python3.8/site-packages/spotipy/client.py:323\u001b[0m, in \u001b[0;36mSpotify._get\u001b[0;34m(self, url, args, payload, **kwargs)\u001b[0m\n\u001b[1;32m    320\u001b[0m \u001b[39mif\u001b[39;00m args:\n\u001b[1;32m    321\u001b[0m     kwargs\u001b[39m.\u001b[39mupdate(args)\n\u001b[0;32m--> 323\u001b[0m \u001b[39mreturn\u001b[39;00m \u001b[39mself\u001b[39;49m\u001b[39m.\u001b[39;49m_internal_call(\u001b[39m\"\u001b[39;49m\u001b[39mGET\u001b[39;49m\u001b[39m\"\u001b[39;49m, url, payload, kwargs)\n",
      "File \u001b[0;32m~/Code/KNN_MUSIC_FINAL/env/lib/python3.8/site-packages/spotipy/client.py:266\u001b[0m, in \u001b[0;36mSpotify._internal_call\u001b[0;34m(self, method, url, payload, params)\u001b[0m\n\u001b[1;32m    262\u001b[0m logger\u001b[39m.\u001b[39mdebug(\u001b[39m'\u001b[39m\u001b[39mSending \u001b[39m\u001b[39m%s\u001b[39;00m\u001b[39m to \u001b[39m\u001b[39m%s\u001b[39;00m\u001b[39m with Params: \u001b[39m\u001b[39m%s\u001b[39;00m\u001b[39m Headers: \u001b[39m\u001b[39m%s\u001b[39;00m\u001b[39m and Body: \u001b[39m\u001b[39m%r\u001b[39;00m\u001b[39m \u001b[39m\u001b[39m'\u001b[39m,\n\u001b[1;32m    263\u001b[0m              method, url, args\u001b[39m.\u001b[39mget(\u001b[39m\"\u001b[39m\u001b[39mparams\u001b[39m\u001b[39m\"\u001b[39m), headers, args\u001b[39m.\u001b[39mget(\u001b[39m'\u001b[39m\u001b[39mdata\u001b[39m\u001b[39m'\u001b[39m))\n\u001b[1;32m    265\u001b[0m \u001b[39mtry\u001b[39;00m:\n\u001b[0;32m--> 266\u001b[0m     response \u001b[39m=\u001b[39m \u001b[39mself\u001b[39;49m\u001b[39m.\u001b[39;49m_session\u001b[39m.\u001b[39;49mrequest(\n\u001b[1;32m    267\u001b[0m         method, url, headers\u001b[39m=\u001b[39;49mheaders, proxies\u001b[39m=\u001b[39;49m\u001b[39mself\u001b[39;49m\u001b[39m.\u001b[39;49mproxies,\n\u001b[1;32m    268\u001b[0m         timeout\u001b[39m=\u001b[39;49m\u001b[39mself\u001b[39;49m\u001b[39m.\u001b[39;49mrequests_timeout, \u001b[39m*\u001b[39;49m\u001b[39m*\u001b[39;49margs\n\u001b[1;32m    269\u001b[0m     )\n\u001b[1;32m    271\u001b[0m     response\u001b[39m.\u001b[39mraise_for_status()\n\u001b[1;32m    272\u001b[0m     results \u001b[39m=\u001b[39m response\u001b[39m.\u001b[39mjson()\n",
      "File \u001b[0;32m~/Code/KNN_MUSIC_FINAL/env/lib/python3.8/site-packages/requests/sessions.py:589\u001b[0m, in \u001b[0;36mSession.request\u001b[0;34m(self, method, url, params, data, headers, cookies, files, auth, timeout, allow_redirects, proxies, hooks, stream, verify, cert, json)\u001b[0m\n\u001b[1;32m    584\u001b[0m send_kwargs \u001b[39m=\u001b[39m {\n\u001b[1;32m    585\u001b[0m     \u001b[39m\"\u001b[39m\u001b[39mtimeout\u001b[39m\u001b[39m\"\u001b[39m: timeout,\n\u001b[1;32m    586\u001b[0m     \u001b[39m\"\u001b[39m\u001b[39mallow_redirects\u001b[39m\u001b[39m\"\u001b[39m: allow_redirects,\n\u001b[1;32m    587\u001b[0m }\n\u001b[1;32m    588\u001b[0m send_kwargs\u001b[39m.\u001b[39mupdate(settings)\n\u001b[0;32m--> 589\u001b[0m resp \u001b[39m=\u001b[39m \u001b[39mself\u001b[39;49m\u001b[39m.\u001b[39;49msend(prep, \u001b[39m*\u001b[39;49m\u001b[39m*\u001b[39;49msend_kwargs)\n\u001b[1;32m    591\u001b[0m \u001b[39mreturn\u001b[39;00m resp\n",
      "File \u001b[0;32m~/Code/KNN_MUSIC_FINAL/env/lib/python3.8/site-packages/requests/sessions.py:703\u001b[0m, in \u001b[0;36mSession.send\u001b[0;34m(self, request, **kwargs)\u001b[0m\n\u001b[1;32m    700\u001b[0m start \u001b[39m=\u001b[39m preferred_clock()\n\u001b[1;32m    702\u001b[0m \u001b[39m# Send the request\u001b[39;00m\n\u001b[0;32m--> 703\u001b[0m r \u001b[39m=\u001b[39m adapter\u001b[39m.\u001b[39;49msend(request, \u001b[39m*\u001b[39;49m\u001b[39m*\u001b[39;49mkwargs)\n\u001b[1;32m    705\u001b[0m \u001b[39m# Total elapsed time of the request (approximately)\u001b[39;00m\n\u001b[1;32m    706\u001b[0m elapsed \u001b[39m=\u001b[39m preferred_clock() \u001b[39m-\u001b[39m start\n",
      "File \u001b[0;32m~/Code/KNN_MUSIC_FINAL/env/lib/python3.8/site-packages/requests/adapters.py:486\u001b[0m, in \u001b[0;36mHTTPAdapter.send\u001b[0;34m(self, request, stream, timeout, verify, cert, proxies)\u001b[0m\n\u001b[1;32m    483\u001b[0m     timeout \u001b[39m=\u001b[39m TimeoutSauce(connect\u001b[39m=\u001b[39mtimeout, read\u001b[39m=\u001b[39mtimeout)\n\u001b[1;32m    485\u001b[0m \u001b[39mtry\u001b[39;00m:\n\u001b[0;32m--> 486\u001b[0m     resp \u001b[39m=\u001b[39m conn\u001b[39m.\u001b[39;49murlopen(\n\u001b[1;32m    487\u001b[0m         method\u001b[39m=\u001b[39;49mrequest\u001b[39m.\u001b[39;49mmethod,\n\u001b[1;32m    488\u001b[0m         url\u001b[39m=\u001b[39;49murl,\n\u001b[1;32m    489\u001b[0m         body\u001b[39m=\u001b[39;49mrequest\u001b[39m.\u001b[39;49mbody,\n\u001b[1;32m    490\u001b[0m         headers\u001b[39m=\u001b[39;49mrequest\u001b[39m.\u001b[39;49mheaders,\n\u001b[1;32m    491\u001b[0m         redirect\u001b[39m=\u001b[39;49m\u001b[39mFalse\u001b[39;49;00m,\n\u001b[1;32m    492\u001b[0m         assert_same_host\u001b[39m=\u001b[39;49m\u001b[39mFalse\u001b[39;49;00m,\n\u001b[1;32m    493\u001b[0m         preload_content\u001b[39m=\u001b[39;49m\u001b[39mFalse\u001b[39;49;00m,\n\u001b[1;32m    494\u001b[0m         decode_content\u001b[39m=\u001b[39;49m\u001b[39mFalse\u001b[39;49;00m,\n\u001b[1;32m    495\u001b[0m         retries\u001b[39m=\u001b[39;49m\u001b[39mself\u001b[39;49m\u001b[39m.\u001b[39;49mmax_retries,\n\u001b[1;32m    496\u001b[0m         timeout\u001b[39m=\u001b[39;49mtimeout,\n\u001b[1;32m    497\u001b[0m         chunked\u001b[39m=\u001b[39;49mchunked,\n\u001b[1;32m    498\u001b[0m     )\n\u001b[1;32m    500\u001b[0m \u001b[39mexcept\u001b[39;00m (ProtocolError, \u001b[39mOSError\u001b[39;00m) \u001b[39mas\u001b[39;00m err:\n\u001b[1;32m    501\u001b[0m     \u001b[39mraise\u001b[39;00m \u001b[39mConnectionError\u001b[39;00m(err, request\u001b[39m=\u001b[39mrequest)\n",
      "File \u001b[0;32m~/Code/KNN_MUSIC_FINAL/env/lib/python3.8/site-packages/urllib3/connectionpool.py:790\u001b[0m, in \u001b[0;36mHTTPConnectionPool.urlopen\u001b[0;34m(self, method, url, body, headers, retries, redirect, assert_same_host, timeout, pool_timeout, release_conn, chunked, body_pos, preload_content, decode_content, **response_kw)\u001b[0m\n\u001b[1;32m    787\u001b[0m response_conn \u001b[39m=\u001b[39m conn \u001b[39mif\u001b[39;00m \u001b[39mnot\u001b[39;00m release_conn \u001b[39melse\u001b[39;00m \u001b[39mNone\u001b[39;00m\n\u001b[1;32m    789\u001b[0m \u001b[39m# Make the request on the HTTPConnection object\u001b[39;00m\n\u001b[0;32m--> 790\u001b[0m response \u001b[39m=\u001b[39m \u001b[39mself\u001b[39;49m\u001b[39m.\u001b[39;49m_make_request(\n\u001b[1;32m    791\u001b[0m     conn,\n\u001b[1;32m    792\u001b[0m     method,\n\u001b[1;32m    793\u001b[0m     url,\n\u001b[1;32m    794\u001b[0m     timeout\u001b[39m=\u001b[39;49mtimeout_obj,\n\u001b[1;32m    795\u001b[0m     body\u001b[39m=\u001b[39;49mbody,\n\u001b[1;32m    796\u001b[0m     headers\u001b[39m=\u001b[39;49mheaders,\n\u001b[1;32m    797\u001b[0m     chunked\u001b[39m=\u001b[39;49mchunked,\n\u001b[1;32m    798\u001b[0m     retries\u001b[39m=\u001b[39;49mretries,\n\u001b[1;32m    799\u001b[0m     response_conn\u001b[39m=\u001b[39;49mresponse_conn,\n\u001b[1;32m    800\u001b[0m     preload_content\u001b[39m=\u001b[39;49mpreload_content,\n\u001b[1;32m    801\u001b[0m     decode_content\u001b[39m=\u001b[39;49mdecode_content,\n\u001b[1;32m    802\u001b[0m     \u001b[39m*\u001b[39;49m\u001b[39m*\u001b[39;49mresponse_kw,\n\u001b[1;32m    803\u001b[0m )\n\u001b[1;32m    805\u001b[0m \u001b[39m# Everything went great!\u001b[39;00m\n\u001b[1;32m    806\u001b[0m clean_exit \u001b[39m=\u001b[39m \u001b[39mTrue\u001b[39;00m\n",
      "File \u001b[0;32m~/Code/KNN_MUSIC_FINAL/env/lib/python3.8/site-packages/urllib3/connectionpool.py:536\u001b[0m, in \u001b[0;36mHTTPConnectionPool._make_request\u001b[0;34m(self, conn, method, url, body, headers, retries, timeout, chunked, response_conn, preload_content, decode_content, enforce_content_length)\u001b[0m\n\u001b[1;32m    534\u001b[0m \u001b[39m# Receive the response from the server\u001b[39;00m\n\u001b[1;32m    535\u001b[0m \u001b[39mtry\u001b[39;00m:\n\u001b[0;32m--> 536\u001b[0m     response \u001b[39m=\u001b[39m conn\u001b[39m.\u001b[39;49mgetresponse()\n\u001b[1;32m    537\u001b[0m \u001b[39mexcept\u001b[39;00m (BaseSSLError, \u001b[39mOSError\u001b[39;00m) \u001b[39mas\u001b[39;00m e:\n\u001b[1;32m    538\u001b[0m     \u001b[39mself\u001b[39m\u001b[39m.\u001b[39m_raise_timeout(err\u001b[39m=\u001b[39me, url\u001b[39m=\u001b[39murl, timeout_value\u001b[39m=\u001b[39mread_timeout)\n",
      "File \u001b[0;32m~/Code/KNN_MUSIC_FINAL/env/lib/python3.8/site-packages/urllib3/connection.py:454\u001b[0m, in \u001b[0;36mHTTPConnection.getresponse\u001b[0;34m(self)\u001b[0m\n\u001b[1;32m    451\u001b[0m \u001b[39mfrom\u001b[39;00m \u001b[39m.\u001b[39;00m\u001b[39mresponse\u001b[39;00m \u001b[39mimport\u001b[39;00m HTTPResponse\n\u001b[1;32m    453\u001b[0m \u001b[39m# Get the response from http.client.HTTPConnection\u001b[39;00m\n\u001b[0;32m--> 454\u001b[0m httplib_response \u001b[39m=\u001b[39m \u001b[39msuper\u001b[39;49m()\u001b[39m.\u001b[39;49mgetresponse()\n\u001b[1;32m    456\u001b[0m \u001b[39mtry\u001b[39;00m:\n\u001b[1;32m    457\u001b[0m     assert_header_parsing(httplib_response\u001b[39m.\u001b[39mmsg)\n",
      "File \u001b[0;32m/Library/Frameworks/Python.framework/Versions/3.8/lib/python3.8/http/client.py:1347\u001b[0m, in \u001b[0;36mHTTPConnection.getresponse\u001b[0;34m(self)\u001b[0m\n\u001b[1;32m   1345\u001b[0m \u001b[39mtry\u001b[39;00m:\n\u001b[1;32m   1346\u001b[0m     \u001b[39mtry\u001b[39;00m:\n\u001b[0;32m-> 1347\u001b[0m         response\u001b[39m.\u001b[39;49mbegin()\n\u001b[1;32m   1348\u001b[0m     \u001b[39mexcept\u001b[39;00m \u001b[39mConnectionError\u001b[39;00m:\n\u001b[1;32m   1349\u001b[0m         \u001b[39mself\u001b[39m\u001b[39m.\u001b[39mclose()\n",
      "File \u001b[0;32m/Library/Frameworks/Python.framework/Versions/3.8/lib/python3.8/http/client.py:307\u001b[0m, in \u001b[0;36mHTTPResponse.begin\u001b[0;34m(self)\u001b[0m\n\u001b[1;32m    305\u001b[0m \u001b[39m# read until we get a non-100 response\u001b[39;00m\n\u001b[1;32m    306\u001b[0m \u001b[39mwhile\u001b[39;00m \u001b[39mTrue\u001b[39;00m:\n\u001b[0;32m--> 307\u001b[0m     version, status, reason \u001b[39m=\u001b[39m \u001b[39mself\u001b[39;49m\u001b[39m.\u001b[39;49m_read_status()\n\u001b[1;32m    308\u001b[0m     \u001b[39mif\u001b[39;00m status \u001b[39m!=\u001b[39m CONTINUE:\n\u001b[1;32m    309\u001b[0m         \u001b[39mbreak\u001b[39;00m\n",
      "File \u001b[0;32m/Library/Frameworks/Python.framework/Versions/3.8/lib/python3.8/http/client.py:268\u001b[0m, in \u001b[0;36mHTTPResponse._read_status\u001b[0;34m(self)\u001b[0m\n\u001b[1;32m    267\u001b[0m \u001b[39mdef\u001b[39;00m \u001b[39m_read_status\u001b[39m(\u001b[39mself\u001b[39m):\n\u001b[0;32m--> 268\u001b[0m     line \u001b[39m=\u001b[39m \u001b[39mstr\u001b[39m(\u001b[39mself\u001b[39;49m\u001b[39m.\u001b[39;49mfp\u001b[39m.\u001b[39;49mreadline(_MAXLINE \u001b[39m+\u001b[39;49m \u001b[39m1\u001b[39;49m), \u001b[39m\"\u001b[39m\u001b[39miso-8859-1\u001b[39m\u001b[39m\"\u001b[39m)\n\u001b[1;32m    269\u001b[0m     \u001b[39mif\u001b[39;00m \u001b[39mlen\u001b[39m(line) \u001b[39m>\u001b[39m _MAXLINE:\n\u001b[1;32m    270\u001b[0m         \u001b[39mraise\u001b[39;00m LineTooLong(\u001b[39m\"\u001b[39m\u001b[39mstatus line\u001b[39m\u001b[39m\"\u001b[39m)\n",
      "File \u001b[0;32m/Library/Frameworks/Python.framework/Versions/3.8/lib/python3.8/socket.py:669\u001b[0m, in \u001b[0;36mSocketIO.readinto\u001b[0;34m(self, b)\u001b[0m\n\u001b[1;32m    667\u001b[0m \u001b[39mwhile\u001b[39;00m \u001b[39mTrue\u001b[39;00m:\n\u001b[1;32m    668\u001b[0m     \u001b[39mtry\u001b[39;00m:\n\u001b[0;32m--> 669\u001b[0m         \u001b[39mreturn\u001b[39;00m \u001b[39mself\u001b[39;49m\u001b[39m.\u001b[39;49m_sock\u001b[39m.\u001b[39;49mrecv_into(b)\n\u001b[1;32m    670\u001b[0m     \u001b[39mexcept\u001b[39;00m timeout:\n\u001b[1;32m    671\u001b[0m         \u001b[39mself\u001b[39m\u001b[39m.\u001b[39m_timeout_occurred \u001b[39m=\u001b[39m \u001b[39mTrue\u001b[39;00m\n",
      "File \u001b[0;32m/Library/Frameworks/Python.framework/Versions/3.8/lib/python3.8/ssl.py:1241\u001b[0m, in \u001b[0;36mSSLSocket.recv_into\u001b[0;34m(self, buffer, nbytes, flags)\u001b[0m\n\u001b[1;32m   1237\u001b[0m     \u001b[39mif\u001b[39;00m flags \u001b[39m!=\u001b[39m \u001b[39m0\u001b[39m:\n\u001b[1;32m   1238\u001b[0m         \u001b[39mraise\u001b[39;00m \u001b[39mValueError\u001b[39;00m(\n\u001b[1;32m   1239\u001b[0m           \u001b[39m\"\u001b[39m\u001b[39mnon-zero flags not allowed in calls to recv_into() on \u001b[39m\u001b[39m%s\u001b[39;00m\u001b[39m\"\u001b[39m \u001b[39m%\u001b[39m\n\u001b[1;32m   1240\u001b[0m           \u001b[39mself\u001b[39m\u001b[39m.\u001b[39m\u001b[39m__class__\u001b[39m)\n\u001b[0;32m-> 1241\u001b[0m     \u001b[39mreturn\u001b[39;00m \u001b[39mself\u001b[39;49m\u001b[39m.\u001b[39;49mread(nbytes, buffer)\n\u001b[1;32m   1242\u001b[0m \u001b[39melse\u001b[39;00m:\n\u001b[1;32m   1243\u001b[0m     \u001b[39mreturn\u001b[39;00m \u001b[39msuper\u001b[39m()\u001b[39m.\u001b[39mrecv_into(buffer, nbytes, flags)\n",
      "File \u001b[0;32m/Library/Frameworks/Python.framework/Versions/3.8/lib/python3.8/ssl.py:1099\u001b[0m, in \u001b[0;36mSSLSocket.read\u001b[0;34m(self, len, buffer)\u001b[0m\n\u001b[1;32m   1097\u001b[0m \u001b[39mtry\u001b[39;00m:\n\u001b[1;32m   1098\u001b[0m     \u001b[39mif\u001b[39;00m buffer \u001b[39mis\u001b[39;00m \u001b[39mnot\u001b[39;00m \u001b[39mNone\u001b[39;00m:\n\u001b[0;32m-> 1099\u001b[0m         \u001b[39mreturn\u001b[39;00m \u001b[39mself\u001b[39;49m\u001b[39m.\u001b[39;49m_sslobj\u001b[39m.\u001b[39;49mread(\u001b[39mlen\u001b[39;49m, buffer)\n\u001b[1;32m   1100\u001b[0m     \u001b[39melse\u001b[39;00m:\n\u001b[1;32m   1101\u001b[0m         \u001b[39mreturn\u001b[39;00m \u001b[39mself\u001b[39m\u001b[39m.\u001b[39m_sslobj\u001b[39m.\u001b[39mread(\u001b[39mlen\u001b[39m)\n",
      "\u001b[0;31mKeyboardInterrupt\u001b[0m: "
     ]
    }
   ],
   "source": [
    "data = []\n",
    "\n",
    "for playlist_uri in playlist_arr:\n",
    "    #playlist_id = playlist_uri.split(':')[-1]\n",
    "    playlist = sp.playlist(playlist_uri)\n",
    "    tracks = playlist['tracks']['items']\n",
    "\n",
    "    for track in tracks:\n",
    "        track_info = track['track']\n",
    "        track_name = track_info['name']\n",
    "        artist_name = track_info['artists'][0]['name']\n",
    "        audio_features = sp.audio_features(track_info['id'])[0]\n",
    "        genres = sp.artist(track_info['artists'][0]['id'])['genres']\n",
    "\n",
    "        if audio_features is not None and genres is not None:\n",
    "            audio_data = {\n",
    "                'track_name': track_name,\n",
    "                'artist_name': artist_name,\n",
    "                'genres': genres\n",
    "            }\n",
    "            audio_data.update(audio_features)\n",
    "            data.append(audio_data)\n",
    "playlist_df = pd.DataFrame(data)\n",
    "playlist_df = playlist_df.drop(['key', 'mode', 'liveness', 'type', 'id', 'uri', 'track_href', 'analysis_url', 'duration_ms', 'time_signature'], axis=1)\n",
    "playlist_df"
   ]
  },
  {
   "cell_type": "code",
   "execution_count": 5,
   "metadata": {},
   "outputs": [],
   "source": [
    "playlist_df.to_csv('playlist_df.csv')"
   ]
  },
  {
   "cell_type": "code",
   "execution_count": 14,
   "metadata": {},
   "outputs": [],
   "source": [
    "playlist_df = pd.read_csv('playlist_df.csv', index_col=0)"
   ]
  },
  {
   "cell_type": "code",
   "execution_count": 15,
   "metadata": {},
   "outputs": [
    {
     "data": {
      "text/html": [
       "<div>\n",
       "<style scoped>\n",
       "    .dataframe tbody tr th:only-of-type {\n",
       "        vertical-align: middle;\n",
       "    }\n",
       "\n",
       "    .dataframe tbody tr th {\n",
       "        vertical-align: top;\n",
       "    }\n",
       "\n",
       "    .dataframe thead th {\n",
       "        text-align: right;\n",
       "    }\n",
       "</style>\n",
       "<table border=\"1\" class=\"dataframe\">\n",
       "  <thead>\n",
       "    <tr style=\"text-align: right;\">\n",
       "      <th></th>\n",
       "      <th>track_name</th>\n",
       "      <th>artist_name</th>\n",
       "      <th>genres</th>\n",
       "      <th>danceability</th>\n",
       "      <th>energy</th>\n",
       "      <th>loudness</th>\n",
       "      <th>speechiness</th>\n",
       "      <th>acousticness</th>\n",
       "      <th>instrumentalness</th>\n",
       "      <th>valence</th>\n",
       "      <th>tempo</th>\n",
       "    </tr>\n",
       "  </thead>\n",
       "  <tbody>\n",
       "    <tr>\n",
       "      <th>0</th>\n",
       "      <td>Cruel Summer</td>\n",
       "      <td>Taylor Swift</td>\n",
       "      <td>['pop']</td>\n",
       "      <td>0.552</td>\n",
       "      <td>0.702</td>\n",
       "      <td>-5.707</td>\n",
       "      <td>0.1570</td>\n",
       "      <td>0.117000</td>\n",
       "      <td>0.000021</td>\n",
       "      <td>0.564</td>\n",
       "      <td>169.994</td>\n",
       "    </tr>\n",
       "    <tr>\n",
       "      <th>1</th>\n",
       "      <td>vampire</td>\n",
       "      <td>Olivia Rodrigo</td>\n",
       "      <td>['pop']</td>\n",
       "      <td>0.511</td>\n",
       "      <td>0.532</td>\n",
       "      <td>-5.745</td>\n",
       "      <td>0.0560</td>\n",
       "      <td>0.169000</td>\n",
       "      <td>0.000000</td>\n",
       "      <td>0.322</td>\n",
       "      <td>137.827</td>\n",
       "    </tr>\n",
       "    <tr>\n",
       "      <th>2</th>\n",
       "      <td>Popular (with Playboi Carti &amp; Madonna) - Music...</td>\n",
       "      <td>The Weeknd</td>\n",
       "      <td>['canadian contemporary r&amp;b', 'canadian pop', ...</td>\n",
       "      <td>0.855</td>\n",
       "      <td>0.678</td>\n",
       "      <td>-6.276</td>\n",
       "      <td>0.1890</td>\n",
       "      <td>0.056900</td>\n",
       "      <td>0.000037</td>\n",
       "      <td>0.852</td>\n",
       "      <td>99.029</td>\n",
       "    </tr>\n",
       "    <tr>\n",
       "      <th>3</th>\n",
       "      <td>Dance The Night (From Barbie The Album)</td>\n",
       "      <td>Dua Lipa</td>\n",
       "      <td>['dance pop', 'pop', 'uk pop']</td>\n",
       "      <td>0.671</td>\n",
       "      <td>0.845</td>\n",
       "      <td>-4.930</td>\n",
       "      <td>0.0480</td>\n",
       "      <td>0.020700</td>\n",
       "      <td>0.000000</td>\n",
       "      <td>0.775</td>\n",
       "      <td>110.056</td>\n",
       "    </tr>\n",
       "    <tr>\n",
       "      <th>4</th>\n",
       "      <td>WHERE SHE GOES</td>\n",
       "      <td>Bad Bunny</td>\n",
       "      <td>['reggaeton', 'trap latino', 'urbano latino']</td>\n",
       "      <td>0.652</td>\n",
       "      <td>0.800</td>\n",
       "      <td>-4.019</td>\n",
       "      <td>0.0614</td>\n",
       "      <td>0.143000</td>\n",
       "      <td>0.629000</td>\n",
       "      <td>0.234</td>\n",
       "      <td>143.978</td>\n",
       "    </tr>\n",
       "    <tr>\n",
       "      <th>...</th>\n",
       "      <td>...</td>\n",
       "      <td>...</td>\n",
       "      <td>...</td>\n",
       "      <td>...</td>\n",
       "      <td>...</td>\n",
       "      <td>...</td>\n",
       "      <td>...</td>\n",
       "      <td>...</td>\n",
       "      <td>...</td>\n",
       "      <td>...</td>\n",
       "      <td>...</td>\n",
       "    </tr>\n",
       "    <tr>\n",
       "      <th>670</th>\n",
       "      <td>The art of dying</td>\n",
       "      <td>Gojira</td>\n",
       "      <td>['alternative metal', 'french death metal', 'f...</td>\n",
       "      <td>0.493</td>\n",
       "      <td>0.830</td>\n",
       "      <td>-5.983</td>\n",
       "      <td>0.1050</td>\n",
       "      <td>0.000308</td>\n",
       "      <td>0.543000</td>\n",
       "      <td>0.114</td>\n",
       "      <td>137.967</td>\n",
       "    </tr>\n",
       "    <tr>\n",
       "      <th>671</th>\n",
       "      <td>Inis Mona</td>\n",
       "      <td>Eluveitie</td>\n",
       "      <td>['bow pop', 'celtic metal', 'folk metal', 'got...</td>\n",
       "      <td>0.430</td>\n",
       "      <td>0.991</td>\n",
       "      <td>-2.837</td>\n",
       "      <td>0.0916</td>\n",
       "      <td>0.000343</td>\n",
       "      <td>0.002490</td>\n",
       "      <td>0.276</td>\n",
       "      <td>107.031</td>\n",
       "    </tr>\n",
       "    <tr>\n",
       "      <th>672</th>\n",
       "      <td>Ich tu dir weh</td>\n",
       "      <td>Rammstein</td>\n",
       "      <td>['german metal', 'industrial', 'industrial met...</td>\n",
       "      <td>0.295</td>\n",
       "      <td>0.878</td>\n",
       "      <td>-5.034</td>\n",
       "      <td>0.0541</td>\n",
       "      <td>0.001120</td>\n",
       "      <td>0.191000</td>\n",
       "      <td>0.295</td>\n",
       "      <td>165.083</td>\n",
       "    </tr>\n",
       "    <tr>\n",
       "      <th>673</th>\n",
       "      <td>Right Side Of The Bed</td>\n",
       "      <td>Atreyu</td>\n",
       "      <td>['alternative metal', 'melodic metalcore', 'me...</td>\n",
       "      <td>0.253</td>\n",
       "      <td>0.924</td>\n",
       "      <td>-4.830</td>\n",
       "      <td>0.1620</td>\n",
       "      <td>0.001790</td>\n",
       "      <td>0.008560</td>\n",
       "      <td>0.720</td>\n",
       "      <td>171.971</td>\n",
       "    </tr>\n",
       "    <tr>\n",
       "      <th>674</th>\n",
       "      <td>In the Name of Tragedy</td>\n",
       "      <td>Motörhead</td>\n",
       "      <td>['alternative metal', 'hard rock', 'metal', 'n...</td>\n",
       "      <td>0.449</td>\n",
       "      <td>0.994</td>\n",
       "      <td>-4.836</td>\n",
       "      <td>0.0824</td>\n",
       "      <td>0.000106</td>\n",
       "      <td>0.000002</td>\n",
       "      <td>0.447</td>\n",
       "      <td>149.910</td>\n",
       "    </tr>\n",
       "  </tbody>\n",
       "</table>\n",
       "<p>675 rows × 11 columns</p>\n",
       "</div>"
      ],
      "text/plain": [
       "                                            track_name     artist_name  \\\n",
       "0                                         Cruel Summer    Taylor Swift   \n",
       "1                                              vampire  Olivia Rodrigo   \n",
       "2    Popular (with Playboi Carti & Madonna) - Music...      The Weeknd   \n",
       "3              Dance The Night (From Barbie The Album)        Dua Lipa   \n",
       "4                                       WHERE SHE GOES       Bad Bunny   \n",
       "..                                                 ...             ...   \n",
       "670                                   The art of dying          Gojira   \n",
       "671                                          Inis Mona       Eluveitie   \n",
       "672                                     Ich tu dir weh       Rammstein   \n",
       "673                              Right Side Of The Bed          Atreyu   \n",
       "674                             In the Name of Tragedy       Motörhead   \n",
       "\n",
       "                                                genres  danceability  energy  \\\n",
       "0                                              ['pop']         0.552   0.702   \n",
       "1                                              ['pop']         0.511   0.532   \n",
       "2    ['canadian contemporary r&b', 'canadian pop', ...         0.855   0.678   \n",
       "3                       ['dance pop', 'pop', 'uk pop']         0.671   0.845   \n",
       "4        ['reggaeton', 'trap latino', 'urbano latino']         0.652   0.800   \n",
       "..                                                 ...           ...     ...   \n",
       "670  ['alternative metal', 'french death metal', 'f...         0.493   0.830   \n",
       "671  ['bow pop', 'celtic metal', 'folk metal', 'got...         0.430   0.991   \n",
       "672  ['german metal', 'industrial', 'industrial met...         0.295   0.878   \n",
       "673  ['alternative metal', 'melodic metalcore', 'me...         0.253   0.924   \n",
       "674  ['alternative metal', 'hard rock', 'metal', 'n...         0.449   0.994   \n",
       "\n",
       "     loudness  speechiness  acousticness  instrumentalness  valence    tempo  \n",
       "0      -5.707       0.1570      0.117000          0.000021    0.564  169.994  \n",
       "1      -5.745       0.0560      0.169000          0.000000    0.322  137.827  \n",
       "2      -6.276       0.1890      0.056900          0.000037    0.852   99.029  \n",
       "3      -4.930       0.0480      0.020700          0.000000    0.775  110.056  \n",
       "4      -4.019       0.0614      0.143000          0.629000    0.234  143.978  \n",
       "..        ...          ...           ...               ...      ...      ...  \n",
       "670    -5.983       0.1050      0.000308          0.543000    0.114  137.967  \n",
       "671    -2.837       0.0916      0.000343          0.002490    0.276  107.031  \n",
       "672    -5.034       0.0541      0.001120          0.191000    0.295  165.083  \n",
       "673    -4.830       0.1620      0.001790          0.008560    0.720  171.971  \n",
       "674    -4.836       0.0824      0.000106          0.000002    0.447  149.910  \n",
       "\n",
       "[675 rows x 11 columns]"
      ]
     },
     "execution_count": 15,
     "metadata": {},
     "output_type": "execute_result"
    }
   ],
   "source": [
    "playlist_df"
   ]
  },
  {
   "cell_type": "code",
   "execution_count": 16,
   "metadata": {},
   "outputs": [],
   "source": [
    "X = playlist_df[COLS]\n",
    "y = playlist_df['genres']"
   ]
  },
  {
   "cell_type": "code",
   "execution_count": 7,
   "metadata": {},
   "outputs": [
    {
     "data": {
      "text/plain": [
       "Text(0.5, 1.0, 'Silhouette analysis For Optimal k')"
      ]
     },
     "execution_count": 7,
     "metadata": {},
     "output_type": "execute_result"
    },
    {
     "data": {
      "image/png": "[encoded data removed]",
      "text/plain": [
       "<Figure size 640x480 with 1 Axes>"
      ]
     },
     "metadata": {},
     "output_type": "display_data"
    }
   ],
   "source": [
    "range_n_clusters = [5, 10, 15, 20, 25, 30, 35, 40]\n",
    "silhouette_avg = []\n",
    "for num_clusters in range_n_clusters:\n",
    "    kmeans = KMeans(n_clusters=num_clusters)\n",
    "    kmeans.fit(X)\n",
    "    cluster_labels = kmeans.labels_\n",
    "\n",
    "    silhouette_avg.append(silhouette_score(X, cluster_labels))\n",
    "\n",
    "fig = plt.plot(range_n_clusters, silhouette_avg, 'bx-')\n",
    "plt.xlabel('Values of K')\n",
    "plt.ylabel('Silhouette score')\n",
    "plt.title('Silhouette analysis For Optimal k')"
   ]
  },
  {
   "cell_type": "code",
   "execution_count": 19,
   "metadata": {},
   "outputs": [],
   "source": [
    "kmeans = Pipeline([('scaler', StandardScaler()), ('kmeans', KMeans(n_clusters=10))])\n",
    "kmeans.fit(X)\n",
    "playlist_df['cluster'] = kmeans.predict(X)\n",
    "playlist_df['genres'] = playlist_df['genres']"
   ]
  },
  {
   "cell_type": "code",
   "execution_count": 20,
   "metadata": {},
   "outputs": [
    {
     "data": {
      "text/html": [
       "<div>\n",
       "<style scoped>\n",
       "    .dataframe tbody tr th:only-of-type {\n",
       "        vertical-align: middle;\n",
       "    }\n",
       "\n",
       "    .dataframe tbody tr th {\n",
       "        vertical-align: top;\n",
       "    }\n",
       "\n",
       "    .dataframe thead th {\n",
       "        text-align: right;\n",
       "    }\n",
       "</style>\n",
       "<table border=\"1\" class=\"dataframe\">\n",
       "  <thead>\n",
       "    <tr style=\"text-align: right;\">\n",
       "      <th></th>\n",
       "      <th>track_name</th>\n",
       "      <th>artist_name</th>\n",
       "      <th>genres</th>\n",
       "      <th>danceability</th>\n",
       "      <th>energy</th>\n",
       "      <th>loudness</th>\n",
       "      <th>speechiness</th>\n",
       "      <th>acousticness</th>\n",
       "      <th>instrumentalness</th>\n",
       "      <th>valence</th>\n",
       "      <th>tempo</th>\n",
       "      <th>cluster</th>\n",
       "    </tr>\n",
       "  </thead>\n",
       "  <tbody>\n",
       "    <tr>\n",
       "      <th>0</th>\n",
       "      <td>Cruel Summer</td>\n",
       "      <td>Taylor Swift</td>\n",
       "      <td>['pop']</td>\n",
       "      <td>0.552</td>\n",
       "      <td>0.702</td>\n",
       "      <td>-5.707</td>\n",
       "      <td>0.1570</td>\n",
       "      <td>0.117000</td>\n",
       "      <td>0.000021</td>\n",
       "      <td>0.564</td>\n",
       "      <td>169.994</td>\n",
       "      <td>3</td>\n",
       "    </tr>\n",
       "    <tr>\n",
       "      <th>1</th>\n",
       "      <td>vampire</td>\n",
       "      <td>Olivia Rodrigo</td>\n",
       "      <td>['pop']</td>\n",
       "      <td>0.511</td>\n",
       "      <td>0.532</td>\n",
       "      <td>-5.745</td>\n",
       "      <td>0.0560</td>\n",
       "      <td>0.169000</td>\n",
       "      <td>0.000000</td>\n",
       "      <td>0.322</td>\n",
       "      <td>137.827</td>\n",
       "      <td>0</td>\n",
       "    </tr>\n",
       "    <tr>\n",
       "      <th>2</th>\n",
       "      <td>Popular (with Playboi Carti &amp; Madonna) - Music...</td>\n",
       "      <td>The Weeknd</td>\n",
       "      <td>['canadian contemporary r&amp;b', 'canadian pop', ...</td>\n",
       "      <td>0.855</td>\n",
       "      <td>0.678</td>\n",
       "      <td>-6.276</td>\n",
       "      <td>0.1890</td>\n",
       "      <td>0.056900</td>\n",
       "      <td>0.000037</td>\n",
       "      <td>0.852</td>\n",
       "      <td>99.029</td>\n",
       "      <td>7</td>\n",
       "    </tr>\n",
       "    <tr>\n",
       "      <th>3</th>\n",
       "      <td>Dance The Night (From Barbie The Album)</td>\n",
       "      <td>Dua Lipa</td>\n",
       "      <td>['dance pop', 'pop', 'uk pop']</td>\n",
       "      <td>0.671</td>\n",
       "      <td>0.845</td>\n",
       "      <td>-4.930</td>\n",
       "      <td>0.0480</td>\n",
       "      <td>0.020700</td>\n",
       "      <td>0.000000</td>\n",
       "      <td>0.775</td>\n",
       "      <td>110.056</td>\n",
       "      <td>7</td>\n",
       "    </tr>\n",
       "    <tr>\n",
       "      <th>4</th>\n",
       "      <td>WHERE SHE GOES</td>\n",
       "      <td>Bad Bunny</td>\n",
       "      <td>['reggaeton', 'trap latino', 'urbano latino']</td>\n",
       "      <td>0.652</td>\n",
       "      <td>0.800</td>\n",
       "      <td>-4.019</td>\n",
       "      <td>0.0614</td>\n",
       "      <td>0.143000</td>\n",
       "      <td>0.629000</td>\n",
       "      <td>0.234</td>\n",
       "      <td>143.978</td>\n",
       "      <td>9</td>\n",
       "    </tr>\n",
       "    <tr>\n",
       "      <th>...</th>\n",
       "      <td>...</td>\n",
       "      <td>...</td>\n",
       "      <td>...</td>\n",
       "      <td>...</td>\n",
       "      <td>...</td>\n",
       "      <td>...</td>\n",
       "      <td>...</td>\n",
       "      <td>...</td>\n",
       "      <td>...</td>\n",
       "      <td>...</td>\n",
       "      <td>...</td>\n",
       "      <td>...</td>\n",
       "    </tr>\n",
       "    <tr>\n",
       "      <th>670</th>\n",
       "      <td>The art of dying</td>\n",
       "      <td>Gojira</td>\n",
       "      <td>['alternative metal', 'french death metal', 'f...</td>\n",
       "      <td>0.493</td>\n",
       "      <td>0.830</td>\n",
       "      <td>-5.983</td>\n",
       "      <td>0.1050</td>\n",
       "      <td>0.000308</td>\n",
       "      <td>0.543000</td>\n",
       "      <td>0.114</td>\n",
       "      <td>137.967</td>\n",
       "      <td>9</td>\n",
       "    </tr>\n",
       "    <tr>\n",
       "      <th>671</th>\n",
       "      <td>Inis Mona</td>\n",
       "      <td>Eluveitie</td>\n",
       "      <td>['bow pop', 'celtic metal', 'folk metal', 'got...</td>\n",
       "      <td>0.430</td>\n",
       "      <td>0.991</td>\n",
       "      <td>-2.837</td>\n",
       "      <td>0.0916</td>\n",
       "      <td>0.000343</td>\n",
       "      <td>0.002490</td>\n",
       "      <td>0.276</td>\n",
       "      <td>107.031</td>\n",
       "      <td>6</td>\n",
       "    </tr>\n",
       "    <tr>\n",
       "      <th>672</th>\n",
       "      <td>Ich tu dir weh</td>\n",
       "      <td>Rammstein</td>\n",
       "      <td>['german metal', 'industrial', 'industrial met...</td>\n",
       "      <td>0.295</td>\n",
       "      <td>0.878</td>\n",
       "      <td>-5.034</td>\n",
       "      <td>0.0541</td>\n",
       "      <td>0.001120</td>\n",
       "      <td>0.191000</td>\n",
       "      <td>0.295</td>\n",
       "      <td>165.083</td>\n",
       "      <td>3</td>\n",
       "    </tr>\n",
       "    <tr>\n",
       "      <th>673</th>\n",
       "      <td>Right Side Of The Bed</td>\n",
       "      <td>Atreyu</td>\n",
       "      <td>['alternative metal', 'melodic metalcore', 'me...</td>\n",
       "      <td>0.253</td>\n",
       "      <td>0.924</td>\n",
       "      <td>-4.830</td>\n",
       "      <td>0.1620</td>\n",
       "      <td>0.001790</td>\n",
       "      <td>0.008560</td>\n",
       "      <td>0.720</td>\n",
       "      <td>171.971</td>\n",
       "      <td>3</td>\n",
       "    </tr>\n",
       "    <tr>\n",
       "      <th>674</th>\n",
       "      <td>In the Name of Tragedy</td>\n",
       "      <td>Motörhead</td>\n",
       "      <td>['alternative metal', 'hard rock', 'metal', 'n...</td>\n",
       "      <td>0.449</td>\n",
       "      <td>0.994</td>\n",
       "      <td>-4.836</td>\n",
       "      <td>0.0824</td>\n",
       "      <td>0.000106</td>\n",
       "      <td>0.000002</td>\n",
       "      <td>0.447</td>\n",
       "      <td>149.910</td>\n",
       "      <td>3</td>\n",
       "    </tr>\n",
       "  </tbody>\n",
       "</table>\n",
       "<p>675 rows × 12 columns</p>\n",
       "</div>"
      ],
      "text/plain": [
       "                                            track_name     artist_name  \\\n",
       "0                                         Cruel Summer    Taylor Swift   \n",
       "1                                              vampire  Olivia Rodrigo   \n",
       "2    Popular (with Playboi Carti & Madonna) - Music...      The Weeknd   \n",
       "3              Dance The Night (From Barbie The Album)        Dua Lipa   \n",
       "4                                       WHERE SHE GOES       Bad Bunny   \n",
       "..                                                 ...             ...   \n",
       "670                                   The art of dying          Gojira   \n",
       "671                                          Inis Mona       Eluveitie   \n",
       "672                                     Ich tu dir weh       Rammstein   \n",
       "673                              Right Side Of The Bed          Atreyu   \n",
       "674                             In the Name of Tragedy       Motörhead   \n",
       "\n",
       "                                                genres  danceability  energy  \\\n",
       "0                                              ['pop']         0.552   0.702   \n",
       "1                                              ['pop']         0.511   0.532   \n",
       "2    ['canadian contemporary r&b', 'canadian pop', ...         0.855   0.678   \n",
       "3                       ['dance pop', 'pop', 'uk pop']         0.671   0.845   \n",
       "4        ['reggaeton', 'trap latino', 'urbano latino']         0.652   0.800   \n",
       "..                                                 ...           ...     ...   \n",
       "670  ['alternative metal', 'french death metal', 'f...         0.493   0.830   \n",
       "671  ['bow pop', 'celtic metal', 'folk metal', 'got...         0.430   0.991   \n",
       "672  ['german metal', 'industrial', 'industrial met...         0.295   0.878   \n",
       "673  ['alternative metal', 'melodic metalcore', 'me...         0.253   0.924   \n",
       "674  ['alternative metal', 'hard rock', 'metal', 'n...         0.449   0.994   \n",
       "\n",
       "     loudness  speechiness  acousticness  instrumentalness  valence    tempo  \\\n",
       "0      -5.707       0.1570      0.117000          0.000021    0.564  169.994   \n",
       "1      -5.745       0.0560      0.169000          0.000000    0.322  137.827   \n",
       "2      -6.276       0.1890      0.056900          0.000037    0.852   99.029   \n",
       "3      -4.930       0.0480      0.020700          0.000000    0.775  110.056   \n",
       "4      -4.019       0.0614      0.143000          0.629000    0.234  143.978   \n",
       "..        ...          ...           ...               ...      ...      ...   \n",
       "670    -5.983       0.1050      0.000308          0.543000    0.114  137.967   \n",
       "671    -2.837       0.0916      0.000343          0.002490    0.276  107.031   \n",
       "672    -5.034       0.0541      0.001120          0.191000    0.295  165.083   \n",
       "673    -4.830       0.1620      0.001790          0.008560    0.720  171.971   \n",
       "674    -4.836       0.0824      0.000106          0.000002    0.447  149.910   \n",
       "\n",
       "     cluster  \n",
       "0          3  \n",
       "1          0  \n",
       "2          7  \n",
       "3          7  \n",
       "4          9  \n",
       "..       ...  \n",
       "670        9  \n",
       "671        6  \n",
       "672        3  \n",
       "673        3  \n",
       "674        3  \n",
       "\n",
       "[675 rows x 12 columns]"
      ]
     },
     "execution_count": 20,
     "metadata": {},
     "output_type": "execute_result"
    }
   ],
   "source": [
    "playlist_df"
   ]
  },
  {
   "cell_type": "code",
   "execution_count": 21,
   "metadata": {},
   "outputs": [
    {
     "name": "stdout",
     "output_type": "stream",
     "text": [
      "[t-SNE] Computing 91 nearest neighbors...\n",
      "[t-SNE] Indexed 675 samples in 0.001s...\n",
      "[t-SNE] Computed neighbors for 675 samples in 0.023s...\n",
      "[t-SNE] Computed conditional probabilities for sample 675 / 675\n",
      "[t-SNE] Mean sigma: 0.847400\n",
      "[t-SNE] KL divergence after 250 iterations with early exaggeration: 63.894268\n",
      "[t-SNE] KL divergence after 1000 iterations: 0.885136\n"
     ]
    },
    {
     "data": {
      "application/vnd.plotly.v1+json": {
       "config": {
        "plotlyServerURL": "https://plot.ly"
       },
       "data": [
        {
         "customdata": [
          [
           "['pop']"
          ],
          [
           "['pop']"
          ],
          [
           "['canadian contemporary r&b', 'canadian pop', 'pop']"
          ],
          [
           "['dance pop', 'pop', 'uk pop']"
          ],
          [
           "['reggaeton', 'trap latino', 'urbano latino']"
          ],
          [
           "['pop', 'r&b', 'rap']"
          ],
          [
           "['pop']"
          ],
          [
           "['hip hop', 'rap']"
          ],
          [
           "['afrobeats', 'nigerian pop']"
          ],
          [
           "['pop']"
          ],
          [
           "['k-pop girl group']"
          ],
          [
           "['hip pop', 'pop', 'queens hip hop', 'rap']"
          ],
          [
           "['reggaeton', 'trap latino', 'urbano latino']"
          ],
          [
           "['dance pop', 'pop']"
          ],
          [
           "['afrobeats']"
          ],
          [
           "['pop reggaeton', 'reggaeton', 'trap latino', 'urbano latino']"
          ],
          [
           "['dfw rap', 'melodic rap', 'pop', 'rap']"
          ],
          [
           "['big room', 'dance pop', 'edm', 'pop', 'pop dance']"
          ],
          [
           "['canadian contemporary r&b', 'canadian pop', 'pop']"
          ],
          [
           "['gen z singer-songwriter', 'singer-songwriter pop']"
          ],
          [
           "['atl hip hop', 'melodic rap', 'rap', 'trap']"
          ],
          [
           "['bedroom pop']"
          ],
          [
           "['k-pop', 'k-pop girl group']"
          ],
          [
           "['pop']"
          ],
          [
           "['hip hop', 'rap']"
          ],
          [
           "['chicago drill', 'chicago rap', 'drill', 'hip hop', 'rap', 'trap']"
          ],
          [
           "['colombian pop']"
          ],
          [
           "['corrido', 'corridos tumbados', 'sad sierreno', 'sierreno']"
          ],
          [
           "['gen z singer-songwriter']"
          ],
          [
           "['pop', 'singer-songwriter pop', 'uk pop']"
          ],
          [
           "['pop', 'r&b', 'rap']"
          ],
          [
           "['modern indie pop', 'pov: indie', 'singer-songwriter pop']"
          ],
          [
           "['piano rock', 'pop']"
          ],
          [
           "['contemporary country', 'country']"
          ],
          [
           "['argentine hip hop', 'pop venezolano', 'trap argentino', 'trap latino', 'urbano latino']"
          ],
          [
           "['alternative pop rock', 'pov: indie']"
          ],
          [
           "['big room', 'dance pop', 'edm', 'pop', 'pop dance']"
          ],
          [
           "['alternative r&b']"
          ],
          [
           "['hip hop', 'rap']"
          ],
          [
           "['art pop', 'pop']"
          ],
          [
           "['bedroom pop', 'bedroom r&b']"
          ],
          [
           "['rap']"
          ],
          [
           "['pop', 'r&b']"
          ],
          [
           "['dance pop', 'edm', 'electro house', 'house', 'pop', 'progressive house', 'uk dance']"
          ],
          [
           "['electra', 'float house']"
          ],
          [
           "['pop']"
          ],
          [
           "['contemporary country']"
          ],
          [
           "['sad sierreno']"
          ],
          [
           "['pop', 'uk pop']"
          ],
          [
           "['uk hip hop']"
          ],
          [
           "['atl hip hop', 'melodic rap', 'rap', 'trap']"
          ],
          [
           "['melodic rap', 'philly rap', 'rage rap', 'rap', 'trap']"
          ],
          [
           "['atl hip hop', 'atl trap', 'gangster rap', 'melodic rap', 'rap', 'trap']"
          ],
          [
           "['brooklyn drill', 'melodic rap', 'nyc rap', 'rap']"
          ],
          [
           "['atl hip hop', 'dirty south rap', 'hip hop', 'pop rap', 'rap', 'southern hip hop', 'trap']"
          ],
          [
           "[]"
          ],
          [
           "['melodic rap', 'philly rap', 'rage rap', 'rap', 'trap']"
          ],
          [
           "[]"
          ],
          [
           "['canadian hip hop', 'canadian pop', 'hip hop', 'rap', 'toronto rap']"
          ],
          [
           "['chicago drill', 'chicago rap', 'drill', 'hip hop', 'rap', 'trap']"
          ],
          [
           "['memphis hip hop', 'rap', 'southern hip hop', 'tennessee hip hop', 'trap']"
          ],
          [
           "['boston hip hop', 'hip hop', 'pop rap', 'rap']"
          ],
          [
           "['atl hip hop', 'melodic rap', 'rap', 'trap']"
          ],
          [
           "['chicago rap']"
          ],
          [
           "['detroit trap', 'southern hip hop', 'trap']"
          ],
          [
           "['north carolina hip hop']"
          ],
          [
           "['texas latin rap']"
          ],
          [
           "['uk hip hop']"
          ],
          [
           "['trap queen']"
          ],
          [
           "['pluggnb', 'rap', 'trap']"
          ],
          [
           "['memphis hip hop', 'southern hip hop', 'tennessee hip hop', 'trap']"
          ],
          [
           "['atl hip hop', 'atl trap', 'gangster rap', 'melodic rap', 'rap', 'trap']"
          ],
          [
           "['brooklyn drill', 'melodic rap', 'nyc rap', 'rap']"
          ],
          [
           "['hip hop', 'rap']"
          ],
          [
           "['melodic rap', 'philly rap', 'rage rap', 'rap', 'trap']"
          ],
          [
           "['atl hip hop', 'melodic rap', 'rap', 'trap']"
          ],
          [
           "['memphis hip hop', 'rap', 'southern hip hop', 'tennessee hip hop', 'trap']"
          ],
          [
           "['chicago drill', 'chicago rap', 'drill', 'hip hop', 'rap', 'trap']"
          ],
          [
           "['hip hop', 'rap']"
          ],
          [
           "['pop rap']"
          ],
          [
           "['rap', 'trap']"
          ],
          [
           "['new jersey underground rap', 'trap queen']"
          ],
          [
           "['hip pop', 'pop', 'queens hip hop', 'rap']"
          ],
          [
           "['hip hop', 'rap']"
          ],
          [
           "['atl hip hop', 'dirty south rap', 'hip hop', 'pop rap', 'rap', 'southern hip hop', 'trap']"
          ],
          [
           "['atl hip hop', 'atl trap', 'gangster rap', 'melodic rap', 'rap', 'trap']"
          ],
          [
           "['trap queen']"
          ],
          [
           "['dance pop', 'pop']"
          ],
          [
           "['canadian hip hop', 'canadian pop', 'hip hop', 'rap', 'toronto rap']"
          ],
          [
           "['atl hip hop', 'atl trap', 'rap', 'trap']"
          ],
          [
           "['hip hop', 'pop rap', 'rap', 'southern hip hop', 'trap']"
          ],
          [
           "['pluggnb', 'rage rap']"
          ],
          [
           "['rap']"
          ],
          [
           "['bronx drill']"
          ],
          [
           "['hip hop', 'north carolina hip hop', 'rap', 'trap']"
          ],
          [
           "['chicago rap']"
          ],
          [
           "['melodic rap', 'rap', 'trap']"
          ],
          [
           "['cali rap']"
          ],
          [
           "['deep underground hip hop', 'kentucky hip hop', 'pop rap', 'rap']"
          ],
          [
           "['hip hop', 'rap']"
          ],
          [
           "['contemporary country', 'country']"
          ],
          [
           "['country pop', 'modern country pop']"
          ],
          [
           "['contemporary country', 'modern country pop']"
          ],
          [
           "['contemporary country', 'country road', 'modern country rock', 'modern uplift']"
          ],
          [
           "['classic oklahoma country', 'contemporary country', 'country', 'country dawn', 'country road', 'dance pop']"
          ],
          [
           "['contemporary country']"
          ],
          [
           "['contemporary country']"
          ],
          [
           "['contemporary country', 'country', 'country pop']"
          ],
          [
           "['modern country pop']"
          ],
          [
           "['la pop', 'modern country pop']"
          ],
          [
           "['modern country pop']"
          ],
          [
           "['modern country pop']"
          ],
          [
           "['contemporary country', 'country', 'country road']"
          ],
          [
           "['contemporary country', 'modern country pop']"
          ],
          [
           "['contemporary country', 'country', 'country road', 'modern country rock']"
          ],
          [
           "['black americana', 'contemporary country', 'country', 'country road']"
          ],
          [
           "['country rap', 'nashville hip hop', 'tennessee hip hop']"
          ],
          [
           "['modern country pop']"
          ],
          [
           "['contemporary country', 'modern country pop']"
          ],
          [
           "['arkansas country', 'contemporary country', 'country', 'country road']"
          ],
          [
           "['contemporary country', 'country', 'country road', 'modern country rock']"
          ],
          [
           "['modern country pop']"
          ],
          [
           "['modern country pop']"
          ],
          [
           "['modern country pop']"
          ],
          [
           "['contemporary country', 'country', 'country road', 'modern country rock']"
          ],
          [
           "['modern country pop']"
          ],
          [
           "['modern blues rock']"
          ],
          [
           "['contemporary country', 'country road']"
          ],
          [
           "['contemporary country', 'country', 'country road', 'modern country rock']"
          ],
          [
           "['modern country pop']"
          ],
          [
           "['arkansas country', 'contemporary country', 'country', 'country road']"
          ],
          [
           "['classic texas country', 'texas country']"
          ],
          [
           "['contemporary country', 'country']"
          ],
          [
           "['modern country pop']"
          ],
          [
           "['modern country pop']"
          ],
          [
           "['contemporary country', 'country', 'country road', 'modern country rock', 'modern southern rock']"
          ],
          [
           "['north dakota indie']"
          ],
          [
           "['contemporary country', 'country', 'country road', 'modern country rock']"
          ],
          [
           "['contemporary country', 'country', 'country road']"
          ],
          [
           "['contemporary country', 'country', 'country road']"
          ],
          [
           "['modern country pop']"
          ],
          [
           "['modern country pop']"
          ],
          [
           "['contemporary country', 'country', 'country road', 'modern country rock']"
          ],
          [
           "['country pop']"
          ],
          [
           "['contemporary country', 'country', 'country road']"
          ],
          [
           "['modern country pop']"
          ],
          [
           "['contemporary country', 'country', 'country road', 'modern country rock']"
          ],
          [
           "['contemporary country', 'country', 'country dawn', 'country road']"
          ],
          [
           "['contemporary country', 'country', 'country road', 'modern country rock']"
          ],
          [
           "['modern country pop', 'texas country']"
          ],
          [
           "['reggaeton', 'trap latino', 'urbano latino']"
          ],
          [
           "['reggaeton', 'trap latino', 'urbano latino']"
          ],
          [
           "['reggaeton']"
          ],
          [
           "['puerto rican pop', 'reggaeton', 'trap latino', 'urbano latino']"
          ],
          [
           "['corrido', 'corridos tumbados', 'sad sierreno', 'sierreno']"
          ],
          [
           "['colombian pop', 'pop reggaeton', 'reggaeton colombiano', 'trap latino', 'urbano latino']"
          ],
          [
           "['pop reggaeton', 'reggaeton', 'trap latino', 'urbano latino']"
          ],
          [
           "['urbano latino']"
          ],
          [
           "['sad sierreno']"
          ],
          [
           "['argentine hip hop', 'pop venezolano', 'trap argentino', 'trap latino', 'urbano latino']"
          ],
          [
           "['corrido', 'corridos tumbados', 'musica mexicana', 'sad sierreno', 'sierreno']"
          ],
          [
           "['pop argentino']"
          ],
          [
           "['puerto rican pop', 'reggaeton', 'trap latino', 'urbano latino']"
          ],
          [
           "['corrido', 'corridos tumbados', 'sad sierreno', 'sierreno']"
          ],
          [
           "['musica chihuahuense']"
          ],
          [
           "['sad sierreno']"
          ],
          [
           "['argentine hip hop', 'trap argentino', 'trap latino', 'trap triste', 'urbano latino']"
          ],
          [
           "['latin hip hop', 'puerto rican pop', 'reggaeton', 'trap latino', 'urbano latino']"
          ],
          [
           "['colombian pop', 'dance pop', 'latin pop', 'pop']"
          ],
          [
           "['colombian pop', 'latin pop', 'reggaeton', 'reggaeton colombiano', 'urbano latino']"
          ],
          [
           "['latin hip hop', 'reggaeton', 'trap latino', 'urbano latino']"
          ],
          [
           "['rap canario', 'trap latino', 'urbano latino']"
          ],
          [
           "['pop reggaeton', 'reggaeton', 'trap latino', 'urbano latino']"
          ],
          [
           "['latin pop', 'reggaeton', 'reggaeton colombiano', 'trap latino', 'urbano latino']"
          ],
          [
           "['reggaeton', 'reggaeton colombiano', 'trap latino', 'urbano latino']"
          ],
          [
           "['argentine hip hop', 'r&b argentino', 'trap argentino', 'trap latino', 'urbano latino']"
          ],
          [
           "['dembow', 'rap dominicano', 'reggaeton', 'trap latino', 'urbano latino']"
          ],
          [
           "['reggaeton', 'reggaeton flow', 'trap boricua', 'trap latino', 'urbano latino']"
          ],
          [
           "['latin hip hop', 'reggaeton', 'trap latino', 'urbano latino']"
          ],
          [
           "['corrido', 'corridos tumbados', 'sad sierreno', 'sierreno']"
          ],
          [
           "['reggaeton', 'reggaeton colombiano', 'trap latino', 'urbano latino']"
          ],
          [
           "['brostep', 'edm', 'pop', 'progressive electro house']"
          ],
          [
           "['reggaeton', 'urbano latino']"
          ],
          [
           "['reggaeton']"
          ],
          [
           "['pop', 'r&b en espanol']"
          ],
          [
           "['trap boricua', 'trap latino', 'trap triste', 'urbano latino']"
          ],
          [
           "['argentine hip hop', 'trap argentino', 'trap latino', 'trap triste', 'urbano latino']"
          ],
          [
           "['sad sierreno']"
          ],
          [
           "['trap argentino', 'trap latino', 'urbano latino']"
          ],
          [
           "['argentine hip hop', 'r&b argentino', 'trap argentino', 'trap latino', 'urbano latino']"
          ],
          [
           "['colombian pop', 'pop reggaeton', 'reggaeton colombiano', 'trap latino', 'urbano latino']"
          ],
          [
           "['banda', 'corrido', 'musica mexicana', 'sad sierreno', 'sierreno']"
          ],
          [
           "['corrido', 'sierreno']"
          ],
          [
           "['corrido', 'corridos tumbados', 'sad sierreno', 'sierreno']"
          ],
          [
           "['reggaeton', 'reggaeton colombiano', 'trap latino', 'urbano latino']"
          ],
          [
           "['rkt']"
          ],
          [
           "['reggaeton', 'reggaeton flow', 'trap latino', 'urbano latino']"
          ],
          [
           "['pop argentino']"
          ],
          [
           "['argentine hip hop', 'pop venezolano', 'trap argentino', 'trap latino', 'urbano latino']"
          ],
          [
           "['funk pop', 'funk rj', 'pagode baiano', 'pop', 'pop nacional']"
          ],
          [
           "['alternative pop rock', 'modern alternative rock', 'modern rock']"
          ],
          [
           "['alternative metal', 'alternative rock', 'modern rock', 'permanent wave', 'post-grunge', 'rock']"
          ],
          [
           "['pop punk']"
          ],
          [
           "['pixel', 'pov: indie']"
          ],
          [
           "['melodic metalcore', 'metalcore', 'modern rock', 'pop punk', 'rock', 'uk metalcore']"
          ],
          [
           "['modern rock', 'post-grunge']"
          ],
          [
           "['alternative rock', 'britpop', 'madchester', 'permanent wave', 'rock']"
          ],
          [
           "['american metalcore']"
          ],
          [
           "['pop punk', 'screamo']"
          ],
          [
           "['candy pop', 'pixie', 'pop', 'pop emo', 'pop punk', 'rock']"
          ],
          [
           "['indie rock italiano', 'italian pop', 'pop']"
          ],
          [
           "['emo', 'modern rock', 'pop', 'pop punk', 'rock']"
          ],
          [
           "['alternative metal', 'alternative rock', 'grunge', 'modern rock', 'nu metal', 'palm desert scene', 'rock', 'stoner metal', 'stoner rock']"
          ],
          [
           "['alternative rock', 'garage rock', 'garage rock revival', 'modern rock', 'rock', 'swedish garage rock', 'swedish hard rock', 'swedish indie rock']"
          ],
          [
           "['bubblegum bass', 'hyperpop', 'proto-hyperpop']"
          ],
          [
           "['escape room', 'hip pop', 'modern alternative rock']"
          ],
          [
           "['alternative metal', 'nu metal', 'post-grunge', 'rap metal', 'rock']"
          ],
          [
           "['modern rock', 'neon pop punk', 'pop punk']"
          ],
          [
           "['pov: indie']"
          ],
          [
           "['pixie', 'pop emo', 'pop punk']"
          ],
          [
           "['pov: indie', 'vancouver indie']"
          ],
          [
           "['modern alternative rock']"
          ],
          [
           "['neon pop punk', 'pop emo', 'pop punk', 'tempe indie']"
          ],
          [
           "['british indie rock', 'modern rock', 'pov: indie', 'rock']"
          ],
          [
           "['alternative emo', 'dreamo', 'midwest emo', 'pop punk', 'socal pop punk']"
          ],
          [
           "['alternative metal', 'nu metal']"
          ],
          [
           "['prog metal']"
          ],
          [
           "['modern blues rock', 'modern hard rock', 'rock']"
          ],
          [
           "['alt z', 'indie electropop', 'modern alternative pop']"
          ],
          [
           "['hopebeat', 'pov: indie']"
          ],
          [
           "['black punk', 'diy emo', 'indie punk', 'pixie', 'pop punk']"
          ],
          [
           "['alternative metal', 'neon pop punk', 'pop emo', 'post-grunge', 'post-hardcore', 'screamo']"
          ],
          [
           "['mexican metal', 'monterrey indie']"
          ],
          [
           "['brighton indie', 'garage rock', 'modern alternative rock', 'modern blues rock', 'modern hard rock', 'modern rock', 'rock']"
          ],
          [
           "['modern alternative rock', 'rebel blues']"
          ],
          [
           "['alternative metal', 'melodic metalcore', 'metalcore', 'pop punk', 'post-grunge', 'trancecore', 'uk metalcore']"
          ],
          [
           "[]"
          ],
          [
           "['brighton indie', 'modern alternative rock']"
          ],
          [
           "['singer-songwriter pop']"
          ],
          [
           "['irish singer-songwriter', 'modern rock', 'pop', 'pov: indie']"
          ],
          [
           "['pov: indie']"
          ],
          [
           "['dublin indie']"
          ],
          [
           "['bubblegrunge', 'indie punk']"
          ],
          [
           "['heartland rock', 'new jersey hardcore', 'new jersey indie', 'new jersey punk']"
          ],
          [
           "['indie pop']"
          ],
          [
           "['5th wave emo', 'california hardcore', 'modern melodic hardcore']"
          ],
          [
           "['seattle indie']"
          ],
          [
           "['bedroom r&b']"
          ],
          [
           "['canadian metalcore', 'melodic metalcore']"
          ],
          [
           "['la indie', 'nu-metalcore']"
          ],
          [
           "['electra', 'float house']"
          ],
          [
           "['australian house', 'house']"
          ],
          [
           "['dance pop']"
          ],
          [
           "['australian house', 'deep groove house', 'house']"
          ],
          [
           "['big room', 'brostep', 'dutch edm', 'edm', 'house', 'pop dance', 'slap house', 'trance']"
          ],
          [
           "['brostep', 'complextro', 'edm', 'electro', 'pop dance']"
          ],
          [
           "['electro house', 'pop nacional', 'sertanejo universitario', 'slap house']"
          ],
          [
           "[]"
          ],
          [
           "['edm', 'pop dance']"
          ],
          [
           "['house', 'pop dance', 'tech house', 'uk dance']"
          ],
          [
           "['czech pop']"
          ],
          [
           "['edm', 'pop dance']"
          ],
          [
           "['dutch house', 'dutch pop']"
          ],
          [
           "['edm', 'pop dance', 'tropical house']"
          ],
          [
           "['dutch trance', 'edm', 'pop dance', 'progressive house', 'trance']"
          ],
          [
           "['edm', 'pop dance', 'pop house', 'uk dance']"
          ],
          [
           "['pop dance', 'uk dance']"
          ],
          [
           "['lo-fi house']"
          ],
          [
           "['electropop', 'pop']"
          ],
          [
           "['dutch edm', 'edm', 'pop', 'pop dance', 'progressive house']"
          ],
          [
           "[]"
          ],
          [
           "['deep disco house', 'minimal techno', 'organic house']"
          ],
          [
           "['house']"
          ],
          [
           "['indie soul', 'indietronica', 'uk contemporary r&b']"
          ],
          [
           "['bass house', 'edm', 'electro house', 'house', 'melbourne bounce', 'pop dance', 'progressive house', 'tech house']"
          ],
          [
           "['edm']"
          ],
          [
           "['deep groove house', 'pop dance', 'uk dance']"
          ],
          [
           "['belgian techno', 'electra']"
          ],
          [
           "['stutter house']"
          ],
          [
           "['edm', 'pop dance', 'pop house', 'uk dance']"
          ],
          [
           "['edm', 'pop dance', 'progressive electro house']"
          ],
          [
           "['belgian edm', 'edm', 'pop dance', 'tropical house']"
          ],
          [
           "['candy pop', 'dance pop', 'electropop', 'metropopolis', 'swedish electropop', 'swedish synthpop']"
          ],
          [
           "['sheffield indie']"
          ],
          [
           "['deep groove house', 'house', 'scottish electronic', 'uk dance']"
          ],
          [
           "['australian dance', 'australian pop', 'dance pop', 'eurodance', 'new wave pop']"
          ],
          [
           "['dance pop', 'pop', 'uk pop']"
          ],
          [
           "['dutch house', 'edm', 'electro house', 'pop dance', 'progressive electro house', 'slap house']"
          ],
          [
           "['house', 'pop dance', 'tech house', 'uk dance']"
          ],
          [
           "['tech house']"
          ],
          [
           "['dance pop', 'edm', 'pop', 'pop dance', 'progressive electro house']"
          ],
          [
           "['australian dance', 'big room', 'melbourne bounce', 'melbourne bounce international']"
          ],
          [
           "['electro house', 'house', 'pop dance', 'uk dance']"
          ],
          [
           "['complextro', 'edm', 'electro house', 'electropop', 'filter house', 'nantes indie', 'pop dance']"
          ],
          [
           "['electropop', 'uk dance']"
          ],
          [
           "[]"
          ],
          [
           "[]"
          ],
          [
           "['house', 'tech house', 'uk dance']"
          ],
          [
           "['metropopolis', 'pop', 'swedish electropop', 'swedish pop', 'swedish synthpop']"
          ],
          [
           "['stutter house']"
          ],
          [
           "['canadian electronic', 'melodic dubstep', 'pop edm']"
          ],
          [
           "['pop dance']"
          ],
          [
           "['dutch tech house']"
          ],
          [
           "['german dance', 'slap house']"
          ],
          [
           "['electro house']"
          ],
          [
           "['modern jungle']"
          ],
          [
           "['edm']"
          ],
          [
           "['deep tech house', 'house', 'progressive house', 'uk dance']"
          ],
          [
           "['deep disco house', 'deep house', 'house', 'minimal techno', 'uk tech house']"
          ],
          [
           "[]"
          ],
          [
           "['aussietronica']"
          ],
          [
           "['bass house', 'electro house', 'tech house']"
          ],
          [
           "['bass house', 'house', 'tech house', 'uk dance']"
          ],
          [
           "['house', 'pop dance']"
          ],
          [
           "['uk dance']"
          ],
          [
           "['canadian electronic']"
          ],
          [
           "['bass house', 'house', 'tech house', 'uk dance', 'uk tech house']"
          ],
          [
           "['irish electronic']"
          ],
          [
           "['deep house', 'house']"
          ],
          [
           "['deep disco house', 'minimal techno', 'organic house']"
          ],
          [
           "['dutch tech house']"
          ],
          [
           "['future garage', 'house', 'pop dance', 'uk dance']"
          ],
          [
           "['pop dance']"
          ],
          [
           "['pop dance', 'uk dance', 'uk funky']"
          ],
          [
           "['future garage']"
          ],
          [
           "['indie pop', 'indietronica', 'modern dream pop', 'pov: indie', 'vapor soul']"
          ],
          [
           "['alternative pop rock', 'pov: indie']"
          ],
          [
           "['deep new americana', 'indie pop', 'pov: indie']"
          ],
          [
           "['pop reggaeton', 'reggaeton', 'trap latino', 'urbano latino']"
          ],
          [
           "[]"
          ],
          [
           "['atlanta indie', 'indie pop']"
          ],
          [
           "['pov: indie']"
          ],
          [
           "[]"
          ],
          [
           "['deep underground hip hop', 'indie pop rap']"
          ],
          [
           "['gen z singer-songwriter']"
          ],
          [
           "['glitchcore', 'hyperpop', 'proto-hyperpop']"
          ],
          [
           "[]"
          ],
          [
           "['modern indie pop']"
          ],
          [
           "['art pop', 'candy pop', 'metropopolis', 'pop', 'uk pop']"
          ],
          [
           "['disco', 'girl group', 'hi-nrg', 'motown', 'new wave pop', 'soft rock']"
          ],
          [
           "[]"
          ],
          [
           "['indie pop', 'modern alternative pop']"
          ],
          [
           "['atl hip hop', 'melodic rap', 'rap', 'trap']"
          ],
          [
           "['alternative pop rock', 'pov: indie']"
          ],
          [
           "[]"
          ],
          [
           "['indie pop', 'indietronica', 'modern dream pop', 'pov: indie', 'vapor soul']"
          ],
          [
           "[]"
          ],
          [
           "['modern indie pop']"
          ],
          [
           "[]"
          ],
          [
           "[]"
          ],
          [
           "[]"
          ],
          [
           "['art pop']"
          ],
          [
           "['modern indie pop']"
          ],
          [
           "['oslo indie']"
          ],
          [
           "['modern indie pop']"
          ],
          [
           "[]"
          ],
          [
           "['nuevo folklore mexicano']"
          ],
          [
           "['alternative pop rock', 'pov: indie']"
          ],
          [
           "['memphis hip hop']"
          ],
          [
           "['indie pop', 'springfield mo indie']"
          ],
          [
           "[]"
          ],
          [
           "[]"
          ],
          [
           "['british indie rock', 'chamber pop', 'indie rock', 'indietronica', 'modern rock', 'shimmer pop']"
          ],
          [
           "['modern indie pop']"
          ],
          [
           "['indie pop']"
          ],
          [
           "[]"
          ],
          [
           "[]"
          ],
          [
           "[]"
          ],
          [
           "['modern indie pop']"
          ],
          [
           "[]"
          ],
          [
           "['indie pop', 'la pop', 'pov: indie']"
          ],
          [
           "['chill pop']"
          ],
          [
           "['bedroom pop']"
          ],
          [
           "['indie hip hop', 'modern indie pop']"
          ],
          [
           "['uk alternative pop']"
          ],
          [
           "['dreamgaze', 'grungegaze']"
          ],
          [
           "['bedroom pop']"
          ],
          [
           "['chill dream pop']"
          ],
          [
           "['glitchcore', 'hyperpop', 'proto-hyperpop']"
          ],
          [
           "['bedroom soul']"
          ],
          [
           "['toronto indie']"
          ],
          [
           "[]"
          ],
          [
           "[]"
          ],
          [
           "[]"
          ],
          [
           "[]"
          ],
          [
           "['indie pop', 'indietronica', 'modern dream pop', 'pov: indie', 'vapor soul']"
          ],
          [
           "['bedroom pop', 'indie pop', 'pop', 'pov: indie']"
          ],
          [
           "['canadian latin', 'canadian pop', 'dance pop', 'pop']"
          ],
          [
           "[]"
          ],
          [
           "[]"
          ],
          [
           "['gen z singer-songwriter']"
          ],
          [
           "[]"
          ],
          [
           "['bedroom pop', 'bedroom r&b']"
          ],
          [
           "[]"
          ],
          [
           "[]"
          ],
          [
           "[]"
          ],
          [
           "['noise pop']"
          ],
          [
           "['bedroom pop', 'indie pop', 'pop', 'pov: indie']"
          ],
          [
           "['alt z', 'indie pop', 'nyc pop']"
          ],
          [
           "[]"
          ],
          [
           "['modern dream pop']"
          ],
          [
           "['glitchcore', 'hyperpop', 'proto-hyperpop']"
          ],
          [
           "['hyperpop']"
          ],
          [
           "['indie hip hop']"
          ],
          [
           "['bedroom pop', 'indie poptimism', 'pov: indie']"
          ],
          [
           "['dallas indie']"
          ],
          [
           "['bedroom pop']"
          ],
          [
           "[]"
          ],
          [
           "['la pop']"
          ],
          [
           "[]"
          ],
          [
           "[]"
          ],
          [
           "['indie pop', 'indie soul', 'uk contemporary r&b']"
          ],
          [
           "['kansas indie']"
          ],
          [
           "['indie pop', 'pov: indie']"
          ],
          [
           "['canadian contemporary r&b']"
          ],
          [
           "['bedroom pop', 'indie pop']"
          ],
          [
           "['indie pop', 'modern alternative pop']"
          ],
          [
           "['colombian pop']"
          ],
          [
           "['indie poptimism', 'pop']"
          ],
          [
           "['lo-fi rap']"
          ],
          [
           "[]"
          ],
          [
           "['hip hop', 'rap']"
          ],
          [
           "['pov: indie']"
          ],
          [
           "['bedroom pop', 'modern indie pop']"
          ],
          [
           "['art pop', 'pop']"
          ],
          [
           "['r&b', 'rap', 'toronto rap', 'urban contemporary']"
          ],
          [
           "['pop', 'r&b', 'rap']"
          ],
          [
           "['r&b', 'rap']"
          ],
          [
           "['alternative r&b']"
          ],
          [
           "['r&b']"
          ],
          [
           "[]"
          ],
          [
           "['r&b', 'rap', 'uk contemporary r&b']"
          ],
          [
           "['alternative r&b']"
          ],
          [
           "['canadian contemporary r&b', 'canadian pop', 'pop']"
          ],
          [
           "['colombian pop']"
          ],
          [
           "['afrofuturism', 'alternative r&b', 'atl hip hop', 'neo soul', 'r&b']"
          ],
          [
           "['afrobeats', 'afropop', 'azonto', 'azontobeats', 'nigerian hip hop', 'nigerian pop']"
          ],
          [
           "['afro r&b', 'afrobeats', 'alternative r&b', 'ghanaian alternative', 'ghanaian pop']"
          ],
          [
           "['alternative r&b', 'indie anthem-folk', 'uk contemporary r&b']"
          ],
          [
           "['r&b']"
          ],
          [
           "[]"
          ],
          [
           "['alternative r&b', 'indie r&b']"
          ],
          [
           "[]"
          ],
          [
           "['r&b', 'rap']"
          ],
          [
           "[]"
          ],
          [
           "['indie r&b']"
          ],
          [
           "['indie r&b']"
          ],
          [
           "['indie r&b']"
          ],
          [
           "['pop', 'r&b', 'rap']"
          ],
          [
           "['afrofuturism', 'alternative r&b', 'atl hip hop', 'neo soul', 'r&b']"
          ],
          [
           "['alternative r&b']"
          ],
          [
           "['pop', 'r&b']"
          ],
          [
           "['afrobeats']"
          ],
          [
           "['indie r&b', 'trap soul']"
          ],
          [
           "['alternative r&b']"
          ],
          [
           "['chill abstract hip hop', 'indie hip hop', 'indie r&b']"
          ],
          [
           "[]"
          ],
          [
           "['r&b']"
          ],
          [
           "['brostep', 'edm', 'pop', 'progressive electro house']"
          ],
          [
           "['afrofuturism', 'alternative r&b', 'atl hip hop', 'neo soul', 'r&b']"
          ],
          [
           "['canadian contemporary r&b']"
          ],
          [
           "['r&b', 'rap']"
          ],
          [
           "['contemporary r&b']"
          ],
          [
           "['r&b']"
          ],
          [
           "['afrobeats']"
          ],
          [
           "['pop', 'r&b']"
          ],
          [
           "['pop r&b']"
          ],
          [
           "['dance pop', 'r&b', 'southern hip hop', 'urban contemporary']"
          ],
          [
           "['alternative r&b', 'indie soul']"
          ],
          [
           "['alternative r&b']"
          ],
          [
           "['contemporary r&b']"
          ],
          [
           "['indie r&b']"
          ],
          [
           "[]"
          ],
          [
           "['canadian contemporary r&b']"
          ],
          [
           "['atl hip hop', 'melodic rap', 'r&b', 'rap', 'trap']"
          ],
          [
           "['contemporary jazz', 'indie jazz', 'jazz brass', 'nu jazz', 'uk contemporary jazz']"
          ],
          [
           "['alternative r&b', 'indie soul']"
          ],
          [
           "[]"
          ],
          [
           "['jazztronica', 'nu jazz']"
          ],
          [
           "['italian jazz']"
          ],
          [
           "[]"
          ],
          [
           "['japanese jazz', 'japanese jazz fusion', 'japanese jazztronica']"
          ],
          [
           "['contemporary jazz', 'contemporary post-bop', 'jazz']"
          ],
          [
           "['uk contemporary r&b']"
          ],
          [
           "['indie jazz', 'indie soul', 'neo r&b', 'rva indie']"
          ],
          [
           "['cuban alternative', 'jazz cubano']"
          ],
          [
           "[]"
          ],
          [
           "['pastoral', 'uk contemporary jazz']"
          ],
          [
           "[]"
          ],
          [
           "[]"
          ],
          [
           "['chamber pop', 'eau claire indie', 'indie folk']"
          ],
          [
           "['fourth world']"
          ],
          [
           "['french jazz']"
          ],
          [
           "[]"
          ],
          [
           "[]"
          ],
          [
           "[]"
          ],
          [
           "['indie jazz']"
          ],
          [
           "[]"
          ],
          [
           "['uk contemporary jazz']"
          ],
          [
           "['argentine hip hop', 'lo-fi latino']"
          ],
          [
           "['nz jazz', 'uk contemporary jazz']"
          ],
          [
           "['arab alternative', 'arabic jazz']"
          ],
          [
           "['avant-garde jazz', 'contemporary post-bop', 'jazz', 'jazz fusion', 'jazz guitar']"
          ],
          [
           "['baithak gana', 'dutch jazz']"
          ],
          [
           "['jazz cubano', 'modern jazz piano']"
          ],
          [
           "[]"
          ],
          [
           "['dutch jazz']"
          ],
          [
           "['instrumental funk']"
          ],
          [
           "[]"
          ],
          [
           "['british jazz', 'indie soul']"
          ],
          [
           "['afrobeat', 'afropop', 'world']"
          ],
          [
           "[]"
          ],
          [
           "['indie jazz', 'uk contemporary jazz']"
          ],
          [
           "['background jazz']"
          ],
          [
           "[]"
          ],
          [
           "['jazz worship']"
          ],
          [
           "[]"
          ],
          [
           "[]"
          ],
          [
           "['indie jazz', 'jazz brass', 'jazz trumpet']"
          ],
          [
           "[]"
          ],
          [
           "['british jazz', 'uk contemporary jazz']"
          ],
          [
           "['hammered dulcimer']"
          ],
          [
           "['jazz trumpet']"
          ],
          [
           "['musica brasiliense']"
          ],
          [
           "[]"
          ],
          [
           "['lo-fi jazzhop']"
          ],
          [
           "['afrobeat']"
          ],
          [
           "['british jazz', 'indie soul']"
          ],
          [
           "['modern jazz trio']"
          ],
          [
           "['deep soft rock']"
          ],
          [
           "['jazz guitar']"
          ],
          [
           "[]"
          ],
          [
           "['italian contemporary jazz', 'italian jazz', 'jazz trumpet']"
          ],
          [
           "['la pop']"
          ],
          [
           "[]"
          ],
          [
           "[]"
          ],
          [
           "['spiritual jazz']"
          ],
          [
           "[]"
          ],
          [
           "[]"
          ],
          [
           "['contemporary jazz', 'contemporary post-bop', 'jazz']"
          ],
          [
           "['lo-fi jazzhop']"
          ],
          [
           "['south african modern jazz']"
          ],
          [
           "['british jazz', 'contemporary jazz', 'indie jazz', 'jazztronica', 'modern jazz trio', 'progressive jazz fusion']"
          ],
          [
           "['uk contemporary jazz']"
          ],
          [
           "['contemporary jazz', 'jazz saxophone']"
          ],
          [
           "['danish modern jazz']"
          ],
          [
           "['indie soul']"
          ],
          [
           "[]"
          ],
          [
           "[]"
          ],
          [
           "['contemporary post-bop', 'electric bass', 'jazz', 'jazz fusion']"
          ],
          [
           "[]"
          ],
          [
           "[]"
          ],
          [
           "['south african alternative', 'south african rock']"
          ],
          [
           "['south african jazz', 'south african modern jazz']"
          ],
          [
           "['uk contemporary jazz']"
          ],
          [
           "['polish jazz', 'polish modern jazz']"
          ],
          [
           "['contemporary jazz', 'jazz guitar']"
          ],
          [
           "['contemporary jazz', 'contemporary post-bop', 'electric bass', 'hard bop', 'jazz', 'jazz double bass', 'jazz fusion', 'straight-ahead jazz']"
          ],
          [
           "['experimental jazz', 'jazz harp']"
          ],
          [
           "['contemporary jazz', 'jazztronica']"
          ],
          [
           "['contemporary jazz', 'jazz', 'modern jazz piano', 'straight-ahead jazz']"
          ],
          [
           "['uk contemporary jazz']"
          ],
          [
           "[]"
          ],
          [
           "[]"
          ],
          [
           "['uk contemporary jazz']"
          ],
          [
           "['bandolim', 'choro', 'choro contemporaneo', 'samba', 'velha guarda']"
          ],
          [
           "['jazz funk']"
          ],
          [
           "[]"
          ],
          [
           "['contemporary post-bop']"
          ],
          [
           "['italian jazz']"
          ],
          [
           "[]"
          ],
          [
           "[]"
          ],
          [
           "['neo soul']"
          ],
          [
           "['modern jazz piano']"
          ],
          [
           "[]"
          ],
          [
           "['alternative metal', 'nu metal', 'rap metal', 'rock']"
          ],
          [
           "['alternative metal', 'funk metal', 'hard rock', 'nu metal', 'post-grunge', 'rap metal', 'rock']"
          ],
          [
           "['alternative metal', 'nu metal', 'rap metal', 'rock']"
          ],
          [
           "['alternative metal', 'nu metal', 'post-grunge', 'rap metal', 'rock']"
          ],
          [
           "['alternative metal', 'nu metal', 'rap metal', 'rock']"
          ],
          [
           "['alternative metal', 'industrial metal', 'nu metal', 'post-grunge', 'rap metal']"
          ],
          [
           "['alternative metal', 'melodic metalcore', 'nu metal', 'pop punk', 'post-grunge', 'uk metalcore', 'welsh metal']"
          ],
          [
           "['alternative metal', 'industrial metal', 'nu metal', 'rap metal']"
          ],
          [
           "['german metal', 'industrial', 'industrial metal', 'industrial rock', 'neue deutsche harte']"
          ],
          [
           "['alternative metal', 'funk metal', 'nu metal', 'post-grunge', 'rap metal', 'rock']"
          ],
          [
           "['alternative metal', 'nu metal', 'rap metal', 'rock']"
          ],
          [
           "['alternative metal', 'nu metal', 'rap metal', 'rock']"
          ],
          [
           "['alternative metal', 'funk metal', 'hard rock', 'nu metal', 'post-grunge', 'rap metal', 'rock']"
          ],
          [
           "['alternative metal', 'nu metal', 'post-grunge', 'rap metal', 'rock']"
          ],
          [
           "['danish metal', 'danish rock']"
          ],
          [
           "['alternative metal', 'nu metal', 'rap metal', 'rock']"
          ],
          [
           "['alternative metal', 'nu metal']"
          ],
          [
           "['hard rock']"
          ],
          [
           "['alternative metal', 'nu metal', 'rap metal', 'rock']"
          ],
          [
           "['alternative metal', 'nu metal', 'rap metal', 'rock']"
          ],
          [
           "['alternative metal', 'art rock', 'nu metal', 'progressive metal', 'progressive rock', 'rock']"
          ],
          [
           "['alternative metal', 'boston metal', 'melodic metalcore', 'metalcore', 'nu metal', 'post-grunge']"
          ],
          [
           "['alternative metal', 'groove metal', 'nu metal']"
          ],
          [
           "['alternative metal', 'nu metal', 'post-grunge', 'rap metal', 'rock']"
          ],
          [
           "['alternative metal', 'nu metal', 'rap metal', 'rock']"
          ],
          [
           "['alternative metal', 'nu metal']"
          ],
          [
           "['alternative metal', 'funk metal', 'nu metal', 'post-grunge', 'rap metal', 'rock']"
          ],
          [
           "['alternative metal', 'canadian metal', 'canadian rock', 'nu metal', 'post-grunge', 'rock']"
          ],
          [
           "['alternative metal', 'glam metal', 'hard rock', 'nu metal', 'post-grunge', 'sleaze rock']"
          ],
          [
           "['alternative metal', 'nu metal', 'rap metal', 'rock']"
          ],
          [
           "['alternative metal', 'art rock', 'nu metal', 'progressive metal', 'progressive rock', 'rock']"
          ],
          [
           "['alternative metal', 'nu metal', 'post-grunge', 'rap metal', 'rock']"
          ],
          [
           "['alternative metal', 'funk metal', 'nu metal', 'rap metal', 'rap rock']"
          ],
          [
           "['alternative metal', 'nu metal']"
          ],
          [
           "['album rock', 'alternative metal', 'birmingham metal', 'classic rock', 'glam metal', 'hard rock', 'metal', 'nu metal', 'rock']"
          ],
          [
           "['alternative metal', 'industrial metal', 'nu metal']"
          ],
          [
           "['alternative metal', 'nu metal', 'post-grunge', 'rap metal', 'rock']"
          ],
          [
           "['alternative metal', 'nu metal', 'post-grunge', 'rap metal']"
          ],
          [
           "['alternative metal', 'groove metal', 'hard rock', 'melodic metalcore', 'metal', 'nu metal', 'virginia metal']"
          ],
          [
           "['alternative metal', 'gothic metal', 'industrial metal', 'industrial rock', 'metal', 'nu metal']"
          ],
          [
           "['alternative metal', 'funk metal', 'hard rock', 'nu metal', 'post-grunge', 'rap metal', 'rock']"
          ],
          [
           "['alternative metal', 'nu metal', 'rap metal', 'rock', 'sacramento indie']"
          ],
          [
           "['alternative metal', 'nu metal', 'rap metal', 'rock']"
          ],
          [
           "['danish metal', 'danish rock']"
          ],
          [
           "['alternative metal', 'gothenburg metal', 'melodic death metal', 'melodic metalcore', 'metal', 'nu metal', 'swedish alternative rock', 'swedish death metal', 'swedish melodeath', 'swedish metal']"
          ],
          [
           "['alternative metal', 'boston metal', 'melodic metalcore', 'metalcore', 'nu metal', 'post-grunge']"
          ],
          [
           "['alternative metal', 'groove metal', 'hard rock', 'melodic metalcore', 'metal', 'nu metal', 'virginia metal']"
          ],
          [
           "['alternative metal', 'art rock', 'nu metal', 'progressive metal', 'progressive rock', 'rock']"
          ],
          [
           "['alternative metal', 'alternative rock', 'cyberpunk', 'electronic rock', 'industrial', 'industrial metal', 'industrial rock', 'nu metal', 'post-grunge', 'rock']"
          ],
          [
           "['power metal', 'swedish metal', 'swedish power metal']"
          ],
          [
           "['bow pop', 'cello', 'finnish metal']"
          ],
          [
           "['alternative metal', 'industrial metal', 'industrial rock', 'nu metal', 'post-grunge', 'rap metal']"
          ],
          [
           "['alternative metal', 'hard rock', 'industrial metal', 'industrial rock', 'nu metal', 'post-grunge', 'rock']"
          ],
          [
           "['alternative metal', 'industrial metal', 'nu metal', 'rap metal']"
          ],
          [
           "['gothenburg metal', 'metal', 'power metal', 'speed metal', 'swedish power metal', 'symphonic metal']"
          ],
          [
           "['alternative metal', 'atlanta metal', 'metal', 'nu metal', 'progressive groove metal', 'progressive sludge', 'sludge metal', 'stoner metal', 'stoner rock']"
          ],
          [
           "['alternative metal', 'nu metal', 'rap metal', 'rock', 'sacramento indie']"
          ],
          [
           "['hard rock']"
          ],
          [
           "['power metal', 'swedish metal', 'swedish power metal']"
          ],
          [
           "['fantasy metal', 'finnish metal', 'finnish power metal', 'gothic metal', 'gothic symphonic metal', 'opera metal', 'power metal', 'symphonic metal']"
          ],
          [
           "['groove metal', 'melodic death metal', 'metal', 'power metal', 'speed metal', 'swedish death metal', 'swedish melodeath', 'swedish metal', 'tolkien metal', 'viking metal']"
          ],
          [
           "['british power metal', 'fantasy metal', 'metal', 'power metal', 'speed metal']"
          ],
          [
           "['alternative metal', 'funk metal', 'hard rock', 'nu metal', 'post-grunge', 'rap metal', 'rock']"
          ],
          [
           "['alternative metal', 'groove metal', 'hard rock', 'metal', 'nu metal']"
          ],
          [
           "['alternative metal', 'nu metal', 'rap metal', 'reggae fusion', 'welsh metal', 'welsh rock']"
          ],
          [
           "['alternative metal', 'boston metal', 'melodic metalcore', 'metalcore', 'nu metal', 'post-grunge']"
          ],
          [
           "['alternative metal', 'art rock', 'nu metal', 'progressive metal', 'progressive rock', 'rock']"
          ],
          [
           "['alternative metal', 'australian metalcore', 'melodic metalcore', 'metalcore', 'nu metal']"
          ],
          [
           "['alternative metal', 'funk metal', 'nu metal', 'post-grunge', 'rap metal', 'rock']"
          ],
          [
           "['alternative metal', 'djent', 'groove metal', 'metal', 'nu metal', 'progressive groove metal', 'swedish metal', 'technical groove metal', 'technical thrash']"
          ],
          [
           "['danish metal', 'danish rock']"
          ],
          [
           "['german metal', 'industrial', 'industrial metal', 'industrial rock', 'neue deutsche harte']"
          ],
          [
           "['alternative metal', 'cleveland metal', 'industrial metal', 'nu metal', 'rap metal']"
          ],
          [
           "['alternative metal', 'finnish death metal', 'finnish melodeath', 'groove metal', 'melodic death metal', 'metal', 'nu metal', 'power metal', 'speed metal']"
          ],
          [
           "['alternative metal', 'groove metal', 'hard rock', 'melodic metalcore', 'metal', 'nu metal', 'virginia metal']"
          ],
          [
           "['fantasy metal', 'finnish metal', 'finnish power metal', 'gothic metal', 'gothic symphonic metal', 'opera metal', 'power metal', 'symphonic metal']"
          ],
          [
           "['alternative metal', 'groove metal', 'hard rock', 'metal', 'nu metal', 'old school thrash', 'rock', 'texas metal']"
          ],
          [
           "['alternative metal', 'groove metal', 'industrial metal', 'metal', 'nu metal', 'rap metal']"
          ],
          [
           "['danish metal', 'danish rock']"
          ],
          [
           "['groove metal', 'melodic death metal', 'metal', 'power metal', 'speed metal', 'swedish death metal', 'swedish melodeath', 'swedish metal', 'tolkien metal', 'viking metal']"
          ],
          [
           "['comic metal']"
          ],
          [
           "['alternative metal', 'groove metal', 'industrial metal', 'metal', 'nu metal', 'rap metal']"
          ],
          [
           "['alternative metal', 'industrial metal', 'nu metal']"
          ],
          [
           "['alternative metal', 'death metal', 'melodic death metal', 'metal', 'nu metal', 'power metal', 'speed metal', 'swedish death metal', 'swedish melodeath', 'swedish metal', 'symphonic metal']"
          ],
          [
           "['folk metal', 'nordic folk metal', 'power metal', 'slavic folk metal', 'symphonic metal', 'viking metal']"
          ],
          [
           "['groove metal', 'melodic death metal', 'metal', 'power metal', 'speed metal', 'swedish death metal', 'swedish melodeath', 'swedish metal', 'tolkien metal', 'viking metal']"
          ],
          [
           "['alternative metal', 'connecticut hardcore', 'hardcore', 'industrial metal', 'melodic metalcore', 'metalcore', 'nu metal']"
          ],
          [
           "['dutch metal', 'gothic metal', 'gothic symphonic metal', 'symphonic metal']"
          ],
          [
           "['alternative metal', 'canadian ccm', 'canadian metal', 'canadian rock', 'christian alternative rock', 'christian rock', 'rap metal']"
          ],
          [
           "['alternative metal', 'gothic metal', 'gothic symphonic metal', 'industrial metal', 'italian gothic', 'italian gothic metal', 'italian metal', 'nu metal', 'symphonic metal']"
          ],
          [
           "['hard rock', 'metal', 'old school thrash', 'rock', 'thrash metal']"
          ],
          [
           "['alternative metal', 'christian metal', 'melodic metalcore', 'metalcore', 'nu metal']"
          ],
          [
           "['hard rock', 'metal', 'progressive metal']"
          ],
          [
           "['alternative metal', 'nu metal', 'rap metal', 'rock', 'sacramento indie']"
          ],
          [
           "['alternative metal', 'connecticut hardcore', 'hardcore', 'industrial metal', 'melodic metalcore', 'metalcore', 'nu metal']"
          ],
          [
           "['alternative metal', 'french death metal', 'french metal', 'groove metal', 'metal', 'nu metal', 'progressive groove metal']"
          ],
          [
           "['bow pop', 'celtic metal', 'folk metal', 'gothic metal', 'gothic symphonic metal', 'hurdy-gurdy', 'melodic death metal', 'power metal', 'swiss metal', 'symphonic metal']"
          ],
          [
           "['german metal', 'industrial', 'industrial metal', 'industrial rock', 'neue deutsche harte']"
          ],
          [
           "['alternative metal', 'melodic metalcore', 'metalcore', 'nu metal', 'pop punk', 'post-grunge', 'screamo']"
          ],
          [
           "['alternative metal', 'hard rock', 'metal', 'nu metal', 'rock', 'speed metal']"
          ]
         ],
         "hovertemplate": "x=%{x}<br>y=%{y}<br>genres=%{customdata[0]}<br>cluster=%{marker.color}<extra></extra>",
         "legendgroup": "",
         "marker": {
          "color": [
           3,
           0,
           7,
           7,
           9,
           6,
           7,
           0,
           7,
           3,
           4,
           5,
           7,
           5,
           4,
           7,
           3,
           6,
           4,
           4,
           0,
           7,
           7,
           0,
           0,
           5,
           7,
           7,
           4,
           0,
           0,
           4,
           7,
           7,
           7,
           0,
           6,
           7,
           0,
           8,
           4,
           5,
           7,
           6,
           7,
           7,
           3,
           7,
           0,
           5,
           0,
           0,
           5,
           5,
           5,
           7,
           5,
           5,
           0,
           5,
           5,
           7,
           0,
           5,
           5,
           5,
           7,
           5,
           5,
           5,
           0,
           5,
           5,
           0,
           5,
           5,
           0,
           5,
           0,
           5,
           7,
           0,
           5,
           5,
           5,
           7,
           5,
           5,
           0,
           5,
           5,
           0,
           5,
           7,
           0,
           5,
           5,
           0,
           5,
           5,
           7,
           7,
           6,
           3,
           7,
           3,
           6,
           6,
           6,
           6,
           4,
           0,
           6,
           4,
           7,
           3,
           3,
           6,
           7,
           6,
           7,
           4,
           7,
           6,
           7,
           3,
           6,
           4,
           7,
           0,
           4,
           3,
           7,
           3,
           7,
           7,
           7,
           6,
           3,
           3,
           0,
           6,
           7,
           7,
           0,
           0,
           6,
           7,
           6,
           6,
           7,
           9,
           5,
           7,
           7,
           7,
           7,
           0,
           3,
           7,
           7,
           6,
           5,
           7,
           6,
           7,
           7,
           7,
           7,
           7,
           7,
           0,
           3,
           7,
           5,
           5,
           7,
           7,
           5,
           7,
           7,
           7,
           0,
           5,
           4,
           0,
           0,
           0,
           7,
           7,
           7,
           4,
           4,
           7,
           5,
           4,
           7,
           7,
           7,
           7,
           3,
           3,
           6,
           7,
           3,
           7,
           6,
           6,
           6,
           0,
           7,
           7,
           7,
           3,
           6,
           7,
           6,
           6,
           3,
           7,
           3,
           7,
           7,
           7,
           6,
           6,
           3,
           3,
           6,
           3,
           3,
           3,
           7,
           6,
           6,
           6,
           3,
           6,
           6,
           3,
           3,
           6,
           3,
           3,
           6,
           6,
           6,
           7,
           3,
           3,
           7,
           5,
           7,
           7,
           6,
           7,
           6,
           9,
           9,
           6,
           5,
           7,
           0,
           0,
           6,
           0,
           6,
           7,
           0,
           6,
           5,
           9,
           0,
           4,
           7,
           7,
           6,
           9,
           6,
           9,
           9,
           0,
           7,
           7,
           6,
           5,
           7,
           6,
           6,
           9,
           6,
           6,
           6,
           0,
           7,
           7,
           0,
           6,
           6,
           9,
           3,
           0,
           7,
           0,
           0,
           3,
           7,
           0,
           7,
           9,
           3,
           5,
           7,
           5,
           7,
           0,
           0,
           9,
           7,
           9,
           7,
           9,
           0,
           3,
           9,
           7,
           0,
           3,
           4,
           6,
           0,
           7,
           8,
           4,
           8,
           3,
           7,
           7,
           7,
           7,
           4,
           7,
           6,
           2,
           7,
           4,
           0,
           4,
           3,
           0,
           4,
           4,
           7,
           9,
           0,
           6,
           2,
           0,
           7,
           0,
           4,
           7,
           7,
           3,
           6,
           3,
           9,
           3,
           4,
           9,
           4,
           7,
           7,
           4,
           6,
           9,
           7,
           9,
           4,
           4,
           3,
           7,
           4,
           4,
           4,
           4,
           2,
           7,
           7,
           4,
           3,
           7,
           0,
           0,
           8,
           2,
           6,
           3,
           5,
           4,
           4,
           7,
           0,
           4,
           7,
           4,
           7,
           0,
           7,
           3,
           3,
           0,
           7,
           8,
           0,
           4,
           0,
           7,
           4,
           5,
           0,
           0,
           9,
           8,
           4,
           8,
           0,
           0,
           4,
           0,
           6,
           0,
           7,
           7,
           7,
           6,
           7,
           4,
           4,
           4,
           7,
           4,
           4,
           5,
           0,
           5,
           4,
           4,
           4,
           4,
           6,
           0,
           4,
           5,
           0,
           8,
           0,
           0,
           0,
           4,
           7,
           4,
           6,
           3,
           4,
           7,
           7,
           7,
           7,
           4,
           7,
           0,
           4,
           4,
           7,
           1,
           2,
           9,
           2,
           8,
           1,
           9,
           1,
           5,
           5,
           2,
           2,
           8,
           9,
           9,
           1,
           2,
           2,
           4,
           4,
           1,
           1,
           1,
           9,
           6,
           1,
           1,
           8,
           1,
           1,
           8,
           7,
           2,
           1,
           1,
           2,
           5,
           1,
           2,
           0,
           8,
           8,
           9,
           7,
           8,
           1,
           1,
           4,
           2,
           1,
           2,
           2,
           9,
           1,
           9,
           1,
           3,
           2,
           4,
           9,
           2,
           9,
           4,
           1,
           1,
           1,
           0,
           1,
           1,
           7,
           2,
           4,
           9,
           9,
           1,
           2,
           9,
           0,
           4,
           3,
           9,
           8,
           2,
           8,
           1,
           8,
           9,
           2,
           1,
           2,
           9,
           7,
           2,
           1,
           8,
           2,
           2,
           2,
           1,
           1,
           6,
           9,
           3,
           6,
           7,
           6,
           3,
           6,
           6,
           6,
           6,
           3,
           7,
           6,
           6,
           3,
           6,
           3,
           6,
           6,
           9,
           3,
           6,
           6,
           6,
           6,
           6,
           7,
           6,
           6,
           6,
           6,
           6,
           6,
           7,
           6,
           6,
           6,
           6,
           9,
           7,
           6,
           6,
           6,
           9,
           3,
           6,
           9,
           6,
           6,
           3,
           6,
           6,
           6,
           6,
           9,
           9,
           6,
           3,
           6,
           3,
           3,
           6,
           6,
           7,
           6,
           9,
           3,
           3,
           9,
           6,
           6,
           3,
           6,
           6,
           6,
           6,
           6,
           6,
           6,
           9,
           6,
           6,
           6,
           3,
           6,
           6,
           3,
           3,
           0,
           6,
           3,
           6,
           3,
           6,
           9,
           6,
           3,
           3,
           3
          ],
          "coloraxis": "coloraxis",
          "symbol": "circle"
         },
         "mode": "markers",
         "name": "",
         "orientation": "v",
         "showlegend": false,
         "type": "scatter",
         "x": [
          -21.57085418701172,
          9.732048034667969,
          -10.682365417480469,
          -18.330951690673828,
          23.871902465820312,
          -1.8194518089294434,
          -12.285505294799805,
          14.825177192687988,
          -3.9475107192993164,
          -4.793209075927734,
          9.890464782714844,
          -4.598273754119873,
          -7.064900875091553,
          -6.920303821563721,
          13.170291900634766,
          -12.590832710266113,
          -17.720809936523438,
          -1.865579605102539,
          -3.0879530906677246,
          18.618078231811523,
          3.5343668460845947,
          -18.203327178955078,
          -12.456812858581543,
          4.0759596824646,
          7.920910358428955,
          -9.501545906066895,
          5.723847389221191,
          4.791517734527588,
          18.61103057861328,
          5.556075096130371,
          9.45530891418457,
          19.038801193237305,
          -18.047330856323242,
          -3.5170130729675293,
          -11.016561508178711,
          6.566217422485352,
          -3.0743887424468994,
          -24.49567985534668,
          4.733376502990723,
          23.249664306640625,
          16.626508712768555,
          -11.151665687561035,
          -10.871236801147461,
          -0.16769681870937347,
          -20.27447509765625,
          -14.145133018493652,
          -3.1140129566192627,
          -17.4612979888916,
          5.603011608123779,
          -10.650503158569336,
          3.5343668460845947,
          3.555812120437622,
          -13.410810470581055,
          -6.936429500579834,
          -12.315376281738281,
          -11.81466007232666,
          -6.291819095611572,
          -11.710932731628418,
          3.791059970855713,
          -9.501545906066895,
          -11.617555618286133,
          -8.893349647521973,
          2.628464937210083,
          -12.482976913452148,
          -11.560957908630371,
          -9.239994049072266,
          -8.09580135345459,
          -10.650503158569336,
          -8.744144439697266,
          -10.641607284545898,
          -3.3068366050720215,
          -12.821971893310547,
          -12.001082420349121,
          10.17566204071045,
          -14.001667976379395,
          -6.853882312774658,
          1.7801432609558105,
          -13.703424453735352,
          14.825212478637695,
          -7.027126789093018,
          -9.364677429199219,
          5.7488861083984375,
          -4.597677230834961,
          -8.299330711364746,
          -7.423894882202148,
          -10.856788635253906,
          -10.62513542175293,
          -6.920303821563721,
          3.5039455890655518,
          -12.358318328857422,
          -14.479265213012695,
          4.370083808898926,
          -11.151665687561035,
          -13.49014949798584,
          -2.422814130783081,
          -9.051483154296875,
          -13.158707618713379,
          -6.369779586791992,
          -14.206476211547852,
          -12.81505298614502,
          -3.5166046619415283,
          -0.978437602519989,
          -16.509340286254883,
          -23.23259162902832,
          -9.114116668701172,
          -3.1140129566192627,
          -2.617860794067383,
          0.27961888909339905,
          -7.734635829925537,
          -18.337867736816406,
          5.006340026855469,
          8.633273124694824,
          -8.378856658935547,
          9.45571517944336,
          -7.735447883605957,
          -16.5340633392334,
          -18.475618362426758,
          -8.780570030212402,
          -17.206485748291016,
          -14.34093952178955,
          -21.650989532470703,
          12.187877655029297,
          -22.041584014892578,
          -13.886370658874512,
          -1.8388397693634033,
          -20.733591079711914,
          -1.3001803159713745,
          16.90372657775879,
          -9.745085716247559,
          6.309908390045166,
          12.375933647155762,
          -14.537129402160645,
          4.064970970153809,
          -22.69776725769043,
          -6.2064595222473145,
          -9.120780944824219,
          -23.447067260742188,
          -4.893866062164307,
          -22.063629150390625,
          -17.13165855407715,
          10.669720649719238,
          -9.326188087463379,
          -21.437450408935547,
          -20.673675537109375,
          12.852259635925293,
          7.158188343048096,
          -8.539249420166016,
          -17.37311553955078,
          1.0241899490356445,
          -4.179471492767334,
          -7.064900875091553,
          23.871980667114258,
          -10.454893112182617,
          -21.525205612182617,
          4.622226238250732,
          -9.375243186950684,
          -12.607330322265625,
          3.7845816612243652,
          -5.285192966461182,
          -11.092493057250977,
          -18.996089935302734,
          3.7339088916778564,
          -8.393908500671387,
          -20.45549201965332,
          -4.851566791534424,
          -17.46115493774414,
          -11.549517631530762,
          -25.217233657836914,
          -4.745204925537109,
          -20.76220703125,
          -22.428577423095703,
          7.203649520874023,
          -20.682170867919922,
          -22.833864212036133,
          -2.3196375370025635,
          -6.033127307891846,
          -23.839265823364258,
          -0.27525973320007324,
          -8.906342506408691,
          -21.266950607299805,
          -8.058549880981445,
          -12.699073791503906,
          2.4590163230895996,
          -11.542203903198242,
          -1.179040789604187,
          3.0569608211517334,
          9.544261932373047,
          -7.612521171569824,
          -13.057618141174316,
          -6.525115966796875,
          -7.918004512786865,
          14.782822608947754,
          16.720378875732422,
          3.5790514945983887,
          -3.943063497543335,
          2.9101600646972656,
          -15.818528175354004,
          -10.055045127868652,
          -13.265239715576172,
          -12.99415111541748,
          -17.10890007019043,
          -18.157978057861328,
          -3.013045072555542,
          -23.053386688232422,
          -14.825874328613281,
          -12.908524513244629,
          -13.767736434936523,
          -8.349775314331055,
          -5.932590961456299,
          3.089085817337036,
          -12.710466384887695,
          -18.047056198120117,
          -0.7929233312606812,
          -9.225038528442383,
          -9.14901065826416,
          -11.900242805480957,
          -5.1545939445495605,
          -0.1081031858921051,
          -21.077829360961914,
          -19.22965431213379,
          -18.784223556518555,
          -10.567588806152344,
          -18.26154136657715,
          -21.50589942932129,
          -13.963543891906738,
          2.634702682495117,
          -14.041982650756836,
          -12.267218589782715,
          -7.106593132019043,
          -19.504547119140625,
          -21.501981735229492,
          -13.19758129119873,
          -16.89451026916504,
          -16.055997848510742,
          -3.684868574142456,
          -2.9982783794403076,
          20.582813262939453,
          -7.254501819610596,
          -2.317523241043091,
          -13.13774585723877,
          -16.30396842956543,
          -8.386212348937988,
          -16.11406898498535,
          -19.465166091918945,
          2.4300758838653564,
          -6.470623016357422,
          2.607497453689575,
          -11.070749282836914,
          -9.165105819702148,
          -14.805293083190918,
          -20.27447509765625,
          -12.606304168701172,
          2.1776516437530518,
          -16.882875442504883,
          -13.479683876037598,
          -14.680546760559082,
          -17.05996322631836,
          26.11363983154297,
          22.766603469848633,
          -12.195021629333496,
          -9.233939170837402,
          -13.382150650024414,
          7.195835590362549,
          4.6645989418029785,
          -15.607397079467773,
          6.67020845413208,
          0.6641371846199036,
          -20.610754013061523,
          9.582908630371094,
          3.797391176223755,
          -5.996421813964844,
          27.973552703857422,
          12.278642654418945,
          11.825177192687988,
          -10.547722816467285,
          -11.17536449432373,
          -0.9969876408576965,
          27.294069290161133,
          0.3043135702610016,
          25.595409393310547,
          25.643863677978516,
          11.708946228027344,
          -14.144524574279785,
          -20.391204833984375,
          -13.88339614868164,
          -7.078627586364746,
          -15.112333297729492,
          -13.701616287231445,
          0.17884518206119537,
          21.15748405456543,
          -17.075223922729492,
          -15.569255828857422,
          -2.610144853591919,
          3.2988698482513428,
          -14.189126968383789,
          -19.529356002807617,
          -12.396819114685059,
          -15.788981437683105,
          1.3483867645263672,
          21.49356460571289,
          -15.559547424316406,
          4.418922424316406,
          2.7827932834625244,
          2.079056978225708,
          5.459364414215088,
          19.774032592773438,
          -17.091297149658203,
          13.472078323364258,
          -15.581169128417969,
          28.762714385986328,
          -23.351543426513672,
          -14.154329299926758,
          -17.69913101196289,
          -11.11533260345459,
          -15.511056900024414,
          0.9877239465713501,
          2.423670530319214,
          26.23924446105957,
          -17.77964973449707,
          28.472518920898438,
          2.6300652027130127,
          24.42999839782715,
          7.456390857696533,
          -7.390552520751953,
          22.46745491027832,
          -15.676753044128418,
          12.67617416381836,
          -19.6484432220459,
          9.1402587890625,
          -4.0385847091674805,
          5.411773681640625,
          -2.962677240371704,
          24.296897888183594,
          11.277230262756348,
          26.242029190063477,
          -18.099159240722656,
          -7.102184295654297,
          9.950982093811035,
          -24.08657455444336,
          -19.25282859802246,
          19.052907943725586,
          -15.555319786071777,
          -7.755030632019043,
          23.797359466552734,
          -15.56049633026123,
          9.980619430541992,
          6.886880874633789,
          15.594478607177734,
          15.076061248779297,
          8.04126262664795,
          15.221781730651855,
          9.246249198913574,
          -15.328269004821777,
          27.350967407226562,
          8.305062294006348,
          -9.447013854980469,
          22.478445053100586,
          6.566217422485352,
          -9.736196517944336,
          9.528409957885742,
          21.805152893066406,
          -15.474390983581543,
          -4.196846008300781,
          -13.014636993408203,
          -10.752617835998535,
          -8.920417785644531,
          24.548864364624023,
          2.483062982559204,
          18.237606048583984,
          29.16914939880371,
          11.004746437072754,
          -1.749738097190857,
          -14.570719718933105,
          7.510415554046631,
          -9.197859764099121,
          28.922855377197266,
          -11.316028594970703,
          32.754581451416016,
          6.109357833862305,
          16.854001998901367,
          -22.07356071472168,
          1.5464160442352295,
          17.666610717773438,
          21.289140701293945,
          29.377960205078125,
          14.105256080627441,
          0.9130898714065552,
          -4.319513320922852,
          -4.271203517913818,
          18.91344451904297,
          -13.090452194213867,
          -10.024053573608398,
          11.282395362854004,
          12.678045272827148,
          27.82557487487793,
          24.04078483581543,
          -11.106892585754395,
          -19.324308395385742,
          -17.809051513671875,
          9.75869083404541,
          3.3877360820770264,
          -2.6028318405151367,
          6.488491535186768,
          22.951852798461914,
          -13.250892639160156,
          11.973909378051758,
          -1.2239668369293213,
          4.5060811042785645,
          5.9525275230407715,
          -14.949877738952637,
          13.348283767700195,
          -1.4769612550735474,
          -5.1336989402771,
          26.279142379760742,
          13.368961334228516,
          13.116606712341309,
          12.090547561645508,
          -7.2271246910095215,
          20.40195655822754,
          -3.4938950538635254,
          -7.379660129547119,
          -5.466717720031738,
          30.064184188842773,
          26.63990592956543,
          13.85694408416748,
          25.91844367980957,
          9.455320358276367,
          2.76777720451355,
          13.654643058776855,
          -5.383057594299316,
          -1.1229931116104126,
          10.591887474060059,
          -24.49564552307129,
          -10.682365417480469,
          6.100191116333008,
          -4.486727714538574,
          -9.547072410583496,
          10.695189476013184,
          17.1931095123291,
          22.368698120117188,
          4.519480228424072,
          19.979841232299805,
          17.79545783996582,
          -8.037776947021484,
          8.744203567504883,
          -5.484591960906982,
          18.569717407226562,
          15.071213722229004,
          19.3260498046875,
          12.013051986694336,
          -14.434463500976562,
          3.2153024673461914,
          8.384302139282227,
          -9.146116256713867,
          14.646660804748535,
          25.12537384033203,
          -3.620887517929077,
          4.084292411804199,
          3.9937827587127686,
          17.117198944091797,
          -5.030813694000244,
          13.13049030303955,
          -4.045682430267334,
          -5.120879650115967,
          13.506058692932129,
          5.946849346160889,
          -2.754960775375366,
          -1.05965256690979,
          -3.8701393604278564,
          12.624258995056152,
          -9.730753898620605,
          6.299014568328857,
          16.62770652770996,
          15.49027156829834,
          0.4850256145000458,
          29.666763305664062,
          22.67269515991211,
          26.951135635375977,
          25.428852081298828,
          30.083633422851562,
          30.785436630249023,
          22.375350952148438,
          33.91632843017578,
          -3.200045108795166,
          -4.810192584991455,
          27.03385353088379,
          27.17557716369629,
          27.2388916015625,
          33.95725631713867,
          30.061410903930664,
          32.57520294189453,
          22.184484481811523,
          31.873350143432617,
          7.725080490112305,
          9.159708976745605,
          27.084028244018555,
          32.39070510864258,
          32.88541793823242,
          32.732818603515625,
          -1.4908491373062134,
          24.56459617614746,
          32.33424758911133,
          30.79790687561035,
          32.91390609741211,
          32.34678268432617,
          25.37520980834961,
          0.8528369665145874,
          24.898597717285156,
          27.58972930908203,
          30.013803482055664,
          21.745155334472656,
          -6.417283535003662,
          31.447673797607422,
          27.807865142822266,
          8.480792045593262,
          30.344520568847656,
          32.84409713745117,
          29.926834106445312,
          1.6276354789733887,
          23.942678451538086,
          33.82004928588867,
          34.80274963378906,
          11.594061851501465,
          25.77713966369629,
          32.078304290771484,
          26.527698516845703,
          0.7020683288574219,
          32.107181549072266,
          34.34658432006836,
          16.12592887878418,
          28.264068603515625,
          -1.6761780977249146,
          24.133939743041992,
          29.010496139526367,
          22.464351654052734,
          24.803430557250977,
          29.374597549438477,
          7.059408187866211,
          30.8046875,
          31.688474655151367,
          30.967187881469727,
          28.399688720703125,
          33.60311508178711,
          30.87850570678711,
          -16.747474670410156,
          23.967084884643555,
          17.9395694732666,
          23.83144760131836,
          33.205909729003906,
          24.94976234436035,
          26.336669921875,
          32.217384338378906,
          12.971282958984375,
          15.461016654968262,
          22.62164306640625,
          32.24720764160156,
          29.635129928588867,
          26.880996704101562,
          31.771127700805664,
          32.54198455810547,
          26.701236724853516,
          21.871633529663086,
          26.05440902709961,
          26.667753219604492,
          23.16201400756836,
          20.285415649414062,
          -18.617965698242188,
          25.77286720275879,
          29.242990493774414,
          31.488407135009766,
          32.536338806152344,
          27.987403869628906,
          22.344463348388672,
          33.99460983276367,
          30.817407608032227,
          -6.9880146980285645,
          22.402067184448242,
          -9.787339210510254,
          -4.371191501617432,
          -21.127153396606445,
          -16.411151885986328,
          -17.92058563232422,
          -6.23798942565918,
          -2.636746406555176,
          17.910655975341797,
          -10.457317352294922,
          -10.15188980102539,
          -6.016912937164307,
          -4.379640102386475,
          -8.260780334472656,
          -14.324600219726562,
          -7.206846714019775,
          -17.795907974243164,
          -7.355737209320068,
          -3.973743200302124,
          28.4678955078125,
          -16.91152572631836,
          -1.8324187994003296,
          -2.1709728240966797,
          -20.43192481994629,
          -13.938075065612793,
          -6.468982219696045,
          -19.7744140625,
          -19.212499618530273,
          -7.638092994689941,
          18.276107788085938,
          -17.199060440063477,
          -10.34900188446045,
          -9.596579551696777,
          -22.276086807250977,
          -17.015396118164062,
          -8.827058792114258,
          -11.055326461791992,
          -7.157942295074463,
          26.678207397460938,
          -19.5195255279541,
          2.6968698501586914,
          -6.3639607429504395,
          -4.795536041259766,
          21.07973289489746,
          -15.49483871459961,
          -3.736341953277588,
          23.14230728149414,
          -15.489094734191895,
          -7.048680305480957,
          -14.556936264038086,
          -6.538658618927002,
          -0.8617150783538818,
          -4.32748556137085,
          -3.3434641361236572,
          20.720239639282227,
          25.303062438964844,
          -5.507895469665527,
          -19.943401336669922,
          2.964186191558838,
          -16.35770606994629,
          -17.449010848999023,
          -6.000164985656738,
          -5.159997940063477,
          -19.027854919433594,
          -5.962014675140381,
          32.39377212524414,
          -18.895565032958984,
          -9.382465362548828,
          24.862380981445312,
          -9.625763893127441,
          -15.579338073730469,
          -15.432950019836426,
          -6.8455023765563965,
          -7.237359523773193,
          2.3782403469085693,
          -4.854711532592773,
          -3.407264471054077,
          -15.705754280090332,
          -3.4385640621185303,
          19.965015411376953,
          -17.20601463317871,
          -7.967464447021484,
          -8.240687370300293,
          -19.711122512817383,
          8.965460777282715,
          -10.677271842956543,
          -15.45157527923584,
          -21.7544002532959,
          5.4367170333862305,
          -10.195597648620605,
          -14.406258583068848,
          -4.861400127410889,
          -17.298730850219727,
          -17.969440460205078,
          25.491497039794922,
          -6.850562572479248,
          -17.307971954345703,
          -20.88633155822754,
          -17.42351531982422
         ],
         "xaxis": "x",
         "y": [
          10.830301284790039,
          4.206552028656006,
          -21.42925262451172,
          -5.467344284057617,
          17.24972152709961,
          7.268498420715332,
          -9.260750770568848,
          -7.294431209564209,
          -15.961939811706543,
          1.6716196537017822,
          -19.98712730407715,
          -31.78754425048828,
          -7.419727802276611,
          -27.610973358154297,
          -14.514153480529785,
          -12.101821899414062,
          19.030193328857422,
          17.02231788635254,
          -5.689915657043457,
          -10.884090423583984,
          -0.1700262874364853,
          -13.524477005004883,
          2.3714234828948975,
          6.729966640472412,
          -11.069819450378418,
          -31.849721908569336,
          -20.781909942626953,
          -21.24201011657715,
          -13.78691291809082,
          -10.352412223815918,
          -0.32919126749038696,
          -14.177200317382812,
          -10.275883674621582,
          -9.723817825317383,
          -10.981074333190918,
          -7.741526126861572,
          17.316194534301758,
          8.999712944030762,
          7.220850944519043,
          -10.22885513305664,
          -10.036394119262695,
          -37.73780059814453,
          -19.459735870361328,
          15.158273696899414,
          -12.17628002166748,
          -10.756450653076172,
          2.416802167892456,
          -12.973076820373535,
          -0.5002061724662781,
          -29.014095306396484,
          -0.1700262874364853,
          3.07918643951416,
          -29.851810455322266,
          -34.36027908325195,
          -36.08271408081055,
          -21.427337646484375,
          -33.69913864135742,
          -34.880489349365234,
          -4.8585686683654785,
          -31.849721908569336,
          -29.54976463317871,
          -21.594161987304688,
          0.9878423810005188,
          -34.520904541015625,
          -36.160213470458984,
          -30.773082733154297,
          -18.742998123168945,
          -29.014095306396484,
          -29.21906089782715,
          -30.360219955444336,
          -24.86649513244629,
          -32.81517791748047,
          -33.9844856262207,
          2.4161136150360107,
          -30.68939208984375,
          -25.48129653930664,
          0.729992687702179,
          -33.323184967041016,
          -7.2944135665893555,
          -28.88093376159668,
          -10.189208030700684,
          -4.228876113891602,
          -31.78865623474121,
          -35.98980712890625,
          -31.737958908081055,
          -20.38248062133789,
          -35.91259002685547,
          -27.610973358154297,
          1.5350730419158936,
          -31.51338768005371,
          -32.43438720703125,
          -0.6474658250808716,
          -37.73780059814453,
          -26.6314754486084,
          -21.398916244506836,
          -30.08099365234375,
          -31.17877769470215,
          -26.215444564819336,
          -22.448970794677734,
          -31.96322250366211,
          -9.723702430725098,
          -14.864158630371094,
          3.0673420429229736,
          17.346277236938477,
          -5.819574356079102,
          2.416802167892456,
          9.3060302734375,
          7.356231689453125,
          12.18958854675293,
          13.832266807556152,
          -18.045948028564453,
          5.917298316955566,
          10.27971363067627,
          -18.881242752075195,
          -6.204427719116211,
          18.95932960510254,
          14.700004577636719,
          4.384986400604248,
          -9.621296882629395,
          14.262893676757812,
          -3.399533987045288,
          -16.310733795166016,
          -5.828712463378906,
          14.872721672058105,
          -9.117465019226074,
          17.836435317993164,
          18.81020164489746,
          -15.900347709655762,
          -3.6128785610198975,
          3.93349289894104,
          -11.84700870513916,
          18.747509002685547,
          -21.99991798400879,
          15.639460563659668,
          -5.847471237182617,
          -4.172878265380859,
          -6.357787609100342,
          8.808674812316895,
          18.282636642456055,
          15.022283554077148,
          5.673065185546875,
          4.868783473968506,
          -4.569195747375488,
          -4.809132099151611,
          4.375863552093506,
          5.531221389770508,
          5.674891948699951,
          -11.209115028381348,
          8.184054374694824,
          8.739657402038574,
          -7.419727802276611,
          17.249713897705078,
          -32.879661560058594,
          -9.438518524169922,
          -20.960084915161133,
          -20.26581573486328,
          -12.081594467163086,
          4.956407070159912,
          1.80632746219635,
          -10.725666999816895,
          -9.37695026397705,
          -13.090386390686035,
          -28.127145767211914,
          -9.456660270690918,
          -4.573968887329102,
          -12.973109245300293,
          -11.690824508666992,
          8.28066349029541,
          -11.350262641906738,
          -8.677515029907227,
          7.520920753479004,
          -11.38447380065918,
          7.64896297454834,
          -8.994511604309082,
          -31.163726806640625,
          -28.621776580810547,
          -9.13939094543457,
          -13.252970695495605,
          -22.97781753540039,
          -10.581987380981445,
          -13.896739959716797,
          -10.776966094970703,
          4.653722763061523,
          -32.32646942138672,
          -30.495529174804688,
          13.538824081420898,
          -2.9090681076049805,
          3.888692855834961,
          -2.8565335273742676,
          -18.950237274169922,
          -21.289915084838867,
          -11.289093971252441,
          -12.45997142791748,
          -19.464778900146484,
          -35.432918548583984,
          -14.161792755126953,
          -25.900238037109375,
          -10.965120315551758,
          -0.6185564994812012,
          -13.992712020874023,
          19.67704963684082,
          22.96257209777832,
          10.70469856262207,
          11.941080093383789,
          27.658742904663086,
          -0.628372848033905,
          8.344895362854004,
          21.791908264160156,
          10.970803260803223,
          -5.593494892120361,
          -1.8646851778030396,
          -6.67429780960083,
          -3.543034315109253,
          25.096506118774414,
          15.642533302307129,
          -1.3718268871307373,
          9.929054260253906,
          8.661576271057129,
          13.736993789672852,
          -6.798186302185059,
          21.559980392456055,
          -3.947758674621582,
          -3.088379383087158,
          -1.8099535703659058,
          12.029444694519043,
          10.022500038146973,
          21.31376075744629,
          20.643962860107422,
          27.718032836914062,
          17.716703414916992,
          10.513656616210938,
          25.06712532043457,
          -8.02316951751709,
          9.155599594116211,
          17.48352813720703,
          15.956314086914062,
          20.564247131347656,
          10.527562141418457,
          -1.3668115139007568,
          21.70545768737793,
          20.680343627929688,
          11.314414978027344,
          20.349048614501953,
          16.222164154052734,
          17.299440383911133,
          12.438070297241211,
          10.281298637390137,
          -4.929426670074463,
          26.86321449279785,
          28.337112426757812,
          -12.17628002166748,
          -28.22167205810547,
          -8.096209526062012,
          -1.022704839706421,
          3.7532639503479004,
          3.162670135498047,
          5.657864093780518,
          11.182149887084961,
          12.72275161743164,
          15.040939331054688,
          -35.233707427978516,
          -8.774948120117188,
          -1.9586048126220703,
          1.2848738431930542,
          4.868488311767578,
          -2.4705772399902344,
          13.821468353271484,
          -10.972220420837402,
          5.381028175354004,
          17.13192367553711,
          -31.983680725097656,
          14.036384582519531,
          -3.6910622119903564,
          -15.516983032226562,
          -13.340946197509766,
          -14.548250198364258,
          16.060272216796875,
          16.940584182739258,
          20.61104965209961,
          16.597915649414062,
          15.658378601074219,
          -7.39711856842041,
          4.138715744018555,
          -6.506975173950195,
          7.564112663269043,
          -31.319055557250977,
          -5.04562520980835,
          5.305926322937012,
          18.632892608642578,
          12.639907836914062,
          7.144507884979248,
          0.6193963289260864,
          21.06793975830078,
          8.3070650100708,
          -4.33848237991333,
          -5.81187629699707,
          3.009225368499756,
          1.263535499572754,
          19.8547306060791,
          18.840559005737305,
          18.651552200317383,
          12.602766990661621,
          -9.302722930908203,
          -4.205425262451172,
          10.798293113708496,
          20.931543350219727,
          -5.098937034606934,
          -7.115565776824951,
          -0.7269585132598877,
          16.149566650390625,
          14.438509941101074,
          -28.06352424621582,
          -0.7252037525177002,
          -27.585641860961914,
          -1.8201998472213745,
          -6.79490327835083,
          -6.908515453338623,
          15.41262435913086,
          -4.728080749511719,
          13.501178741455078,
          -10.204373359680176,
          16.202754974365234,
          -7.092094898223877,
          5.280075550079346,
          12.611224174499512,
          -9.544458389282227,
          0.5299277305603027,
          14.903419494628906,
          -11.182252883911133,
          10.21527099609375,
          6.697868824005127,
          -15.15870189666748,
          -11.738341331481934,
          -20.332752227783203,
          -9.083353996276855,
          12.578521728515625,
          -2.7605791091918945,
          -21.517459869384766,
          10.545473098754883,
          12.506083488464355,
          -10.014105796813965,
          -11.6748628616333,
          9.005062103271484,
          4.513521194458008,
          -26.22216796875,
          -16.101877212524414,
          -10.880592346191406,
          -17.11519432067871,
          6.700071811676025,
          3.9591403007507324,
          -14.22513484954834,
          -19.772884368896484,
          -9.022613525390625,
          13.887632369995117,
          3.08992075920105,
          -3.0515313148498535,
          3.68251371383667,
          -7.741526126861572,
          -12.779356956481934,
          3.315037488937378,
          -10.000673294067383,
          -7.807863235473633,
          -9.050139427185059,
          19.23636245727539,
          4.766025543212891,
          22.97287368774414,
          14.370841979980469,
          14.160070419311523,
          -5.975915908813477,
          8.532517433166504,
          -14.261038780212402,
          -8.460733413696289,
          -0.6644454002380371,
          -20.850147247314453,
          10.220013618469238,
          10.16463851928711,
          -6.0619025230407715,
          14.622889518737793,
          -11.516570091247559,
          -11.177041053771973,
          15.450302124023438,
          -4.926533222198486,
          -10.233354568481445,
          -13.136356353759766,
          5.273540019989014,
          -16.883886337280273,
          -9.668990135192871,
          -7.529897212982178,
          0.7526798248291016,
          -16.88431739807129,
          22.304508209228516,
          -9.069253921508789,
          -3.373049736022949,
          0.16407977044582367,
          -10.145190238952637,
          -1.5578116178512573,
          11.999667167663574,
          13.782859802246094,
          -27.57257080078125,
          -16.478759765625,
          -14.792570114135742,
          -14.463461875915527,
          -3.3080921173095703,
          -11.940033912658691,
          -7.348228454589844,
          -4.4843902587890625,
          -7.344463348388672,
          8.691341400146484,
          -4.768243312835693,
          19.941347122192383,
          5.816689968109131,
          -9.930168151855469,
          -6.623051643371582,
          -10.970430374145508,
          -3.3875772953033447,
          -16.559120178222656,
          4.013507843017578,
          -5.4472808837890625,
          -14.001044273376465,
          -34.291656494140625,
          3.1415908336639404,
          4.811671733856201,
          8.389901161193848,
          -9.166608810424805,
          -9.377300262451172,
          -8.060943603515625,
          -0.32930973172187805,
          5.714601993560791,
          -11.574687004089355,
          -12.928641319274902,
          8.412764549255371,
          0.07827362418174744,
          8.9996976852417,
          -21.42925262451172,
          -20.94354820251465,
          -4.541601657867432,
          -19.500383377075195,
          -20.42474937438965,
          -15.205399513244629,
          -12.412105560302734,
          -18.426801681518555,
          -12.634146690368652,
          -11.85004711151123,
          -33.73121643066406,
          2.5395941734313965,
          -33.99363327026367,
          -9.30932331085205,
          -8.759462356567383,
          -17.370119094848633,
          -10.77437973022461,
          -22.348669052124023,
          2.060823678970337,
          -15.488027572631836,
          -35.67433166503906,
          -4.987111568450928,
          -10.006206512451172,
          -6.777327537536621,
          5.287291049957275,
          -5.297019004821777,
          -16.57765769958496,
          -10.33118724822998,
          -20.850488662719727,
          -3.2490391731262207,
          4.805488109588623,
          -14.19759750366211,
          -17.53097152709961,
          -10.740704536437988,
          -13.13982105255127,
          -11.731282234191895,
          -18.744237899780273,
          -15.856587409973145,
          2.845888614654541,
          -7.652207851409912,
          -11.369665145874023,
          -14.854094505310059,
          0.4261666536331177,
          8.155299186706543,
          12.782265663146973,
          1.9244023561477661,
          -5.120145320892334,
          0.07263772934675217,
          11.411084175109863,
          2.669783353805542,
          -34.699771881103516,
          -35.91194534301758,
          1.1235835552215576,
          6.61322546005249,
          -10.379512786865234,
          6.724328994750977,
          10.280899047851562,
          -2.5209012031555176,
          2.0586562156677246,
          7.351142406463623,
          -17.445018768310547,
          -20.40941619873047,
          -1.0078623294830322,
          3.5955862998962402,
          4.033737659454346,
          10.023052215576172,
          12.390090942382812,
          -2.302666425704956,
          8.833246231079102,
          -6.979440212249756,
          0.033271972090005875,
          2.650460720062256,
          -8.718460083007812,
          -9.0882568359375,
          4.316965579986572,
          5.787154674530029,
          1.9925506114959717,
          7.56014347076416,
          -30.422460556030273,
          4.111300945281982,
          3.953765392303467,
          -3.1835711002349854,
          -4.096386909484863,
          -4.0609612464904785,
          6.814927577972412,
          -15.515138626098633,
          -10.20504379272461,
          13.489212036132812,
          0.22227294743061066,
          -7.862353324890137,
          1.090710997581482,
          0.9055951833724976,
          7.299373149871826,
          -11.296467781066895,
          12.347697257995605,
          3.052658796310425,
          7.172555446624756,
          1.6886494159698486,
          2.836911678314209,
          1.9520231485366821,
          -1.58706796169281,
          14.766937255859375,
          7.964353084564209,
          6.352718830108643,
          -15.714661598205566,
          -1.0131558179855347,
          -0.9246761202812195,
          1.2119858264923096,
          10.269792556762695,
          -1.7619761228561401,
          4.598236083984375,
          -14.497635841369629,
          2.8769822120666504,
          -18.807966232299805,
          14.34177303314209,
          14.104862213134766,
          -1.8734188079833984,
          1.8084741830825806,
          9.94463062286377,
          -3.2596988677978516,
          -16.40260887145996,
          21.688827514648438,
          11.55117130279541,
          -6.20619535446167,
          3.671499490737915,
          -4.330723285675049,
          -2.007296085357666,
          -5.692788124084473,
          10.789009094238281,
          2.9381392002105713,
          5.598844051361084,
          7.494107246398926,
          11.048845291137695,
          -11.863821029663086,
          8.450571060180664,
          1.0053290128707886,
          -4.081667423248291,
          7.221823692321777,
          3.0828475952148438,
          9.299234390258789,
          -2.5861785411834717,
          7.68657112121582,
          21.878101348876953,
          15.707674980163574,
          25.21494483947754,
          16.110336303710938,
          -2.356905221939087,
          4.737294673919678,
          24.423038482666016,
          14.712133407592773,
          12.565425872802734,
          15.574366569519043,
          13.550540924072266,
          26.004709243774414,
          -6.821469306945801,
          11.58228874206543,
          18.209714889526367,
          26.552522659301758,
          14.059186935424805,
          17.947538375854492,
          17.779932022094727,
          19.082841873168945,
          11.03703784942627,
          24.18414878845215,
          17.920499801635742,
          15.720273971557617,
          2.821096658706665,
          9.356990814208984,
          26.792524337768555,
          -3.8805439472198486,
          3.2624242305755615,
          25.92523956298828,
          15.50371265411377,
          7.764095783233643,
          9.017597198486328,
          11.330124855041504,
          -5.031197547912598,
          4.661616325378418,
          12.004165649414062,
          12.932540893554688,
          19.969728469848633,
          18.753829956054688,
          -7.701547622680664,
          19.99091339111328,
          25.02754020690918,
          26.096149444580078,
          15.1746244430542,
          25.566085815429688,
          22.01019287109375,
          15.473714828491211,
          7.871921539306641,
          -1.1100132465362549,
          22.425601959228516,
          26.28687286376953,
          18.35436248779297,
          20.22928810119629,
          11.782881736755371,
          15.842124938964844,
          19.203224182128906,
          11.898568153381348,
          20.018037796020508,
          17.299734115600586,
          22.33004379272461,
          25.761812210083008,
          14.37652587890625,
          11.091015815734863,
          -3.023819923400879,
          21.499319076538086,
          14.098013877868652,
          23.18607521057129,
          22.035236358642578,
          19.846948623657227,
          12.937808990478516,
          6.111738681793213,
          27.96578598022461,
          16.568418502807617,
          25.225597381591797,
          19.03548240661621,
          25.694318771362305,
          13.937296867370605,
          12.231217384338379,
          18.354080200195312,
          15.362382888793945,
          3.332763195037842,
          13.186131477355957,
          19.648897171020508,
          22.380733489990234,
          18.405250549316406,
          8.719884872436523,
          22.586395263671875,
          13.217489242553711,
          9.890600204467773,
          16.536741256713867,
          25.872634887695312,
          22.07440757751465,
          26.58389663696289,
          3.4532012939453125,
          18.01273536682129,
          19.091337203979492,
          21.921262741088867,
          22.321565628051758,
          16.914567947387695
         ],
         "yaxis": "y"
        }
       ],
       "layout": {
        "coloraxis": {
         "colorbar": {
          "title": {
           "text": "cluster"
          }
         },
         "colorscale": [
          [
           0,
           "#000011"
          ],
          [
           0.1111111111111111,
           "#000012"
          ],
          [
           0.2222222222222222,
           "#000013"
          ],
          [
           0.3333333333333333,
           "#000014"
          ],
          [
           0.4444444444444444,
           "#000015"
          ],
          [
           0.5555555555555556,
           "#000016"
          ],
          [
           0.6666666666666666,
           "#000017"
          ],
          [
           0.7777777777777778,
           "#000018"
          ],
          [
           0.8888888888888888,
           "#000019"
          ],
          [
           1,
           "#000020"
          ]
         ]
        },
        "legend": {
         "tracegroupgap": 0
        },
        "margin": {
         "t": 60
        },
        "template": {
         "data": {
          "candlestick": [
           {
            "decreasing": {
             "line": {
              "color": "#000033"
             }
            },
            "increasing": {
             "line": {
              "color": "#000032"
             }
            },
            "type": "candlestick"
           }
          ],
          "contour": [
           {
            "colorscale": [
             [
              0,
              "#000011"
             ],
             [
              0.1111111111111111,
              "#000012"
             ],
             [
              0.2222222222222222,
              "#000013"
             ],
             [
              0.3333333333333333,
              "#000014"
             ],
             [
              0.4444444444444444,
              "#000015"
             ],
             [
              0.5555555555555556,
              "#000016"
             ],
             [
              0.6666666666666666,
              "#000017"
             ],
             [
              0.7777777777777778,
              "#000018"
             ],
             [
              0.8888888888888888,
              "#000019"
             ],
             [
              1,
              "#000020"
             ]
            ],
            "type": "contour"
           }
          ],
          "contourcarpet": [
           {
            "colorscale": [
             [
              0,
              "#000011"
             ],
             [
              0.1111111111111111,
              "#000012"
             ],
             [
              0.2222222222222222,
              "#000013"
             ],
             [
              0.3333333333333333,
              "#000014"
             ],
             [
              0.4444444444444444,
              "#000015"
             ],
             [
              0.5555555555555556,
              "#000016"
             ],
             [
              0.6666666666666666,
              "#000017"
             ],
             [
              0.7777777777777778,
              "#000018"
             ],
             [
              0.8888888888888888,
              "#000019"
             ],
             [
              1,
              "#000020"
             ]
            ],
            "type": "contourcarpet"
           }
          ],
          "heatmap": [
           {
            "colorscale": [
             [
              0,
              "#000011"
             ],
             [
              0.1111111111111111,
              "#000012"
             ],
             [
              0.2222222222222222,
              "#000013"
             ],
             [
              0.3333333333333333,
              "#000014"
             ],
             [
              0.4444444444444444,
              "#000015"
             ],
             [
              0.5555555555555556,
              "#000016"
             ],
             [
              0.6666666666666666,
              "#000017"
             ],
             [
              0.7777777777777778,
              "#000018"
             ],
             [
              0.8888888888888888,
              "#000019"
             ],
             [
              1,
              "#000020"
             ]
            ],
            "type": "heatmap"
           }
          ],
          "histogram2d": [
           {
            "colorscale": [
             [
              0,
              "#000011"
             ],
             [
              0.1111111111111111,
              "#000012"
             ],
             [
              0.2222222222222222,
              "#000013"
             ],
             [
              0.3333333333333333,
              "#000014"
             ],
             [
              0.4444444444444444,
              "#000015"
             ],
             [
              0.5555555555555556,
              "#000016"
             ],
             [
              0.6666666666666666,
              "#000017"
             ],
             [
              0.7777777777777778,
              "#000018"
             ],
             [
              0.8888888888888888,
              "#000019"
             ],
             [
              1,
              "#000020"
             ]
            ],
            "type": "histogram2d"
           }
          ],
          "icicle": [
           {
            "textfont": {
             "color": "white"
            },
            "type": "icicle"
           }
          ],
          "sankey": [
           {
            "textfont": {
             "color": "#000036"
            },
            "type": "sankey"
           }
          ],
          "scatter": [
           {
            "marker": {
             "line": {
              "width": 0
             }
            },
            "type": "scatter"
           }
          ],
          "table": [
           {
            "cells": {
             "fill": {
              "color": "#000038"
             },
             "font": {
              "color": "#000037"
             },
             "line": {
              "color": "#000039"
             }
            },
            "header": {
             "fill": {
              "color": "#000040"
             },
             "font": {
              "color": "#000036"
             },
             "line": {
              "color": "#000039"
             }
            },
            "type": "table"
           }
          ],
          "waterfall": [
           {
            "connector": {
             "line": {
              "color": "#000036",
              "width": 2
             }
            },
            "decreasing": {
             "marker": {
              "color": "#000033"
             }
            },
            "increasing": {
             "marker": {
              "color": "#000032"
             }
            },
            "totals": {
             "marker": {
              "color": "#000034"
             }
            },
            "type": "waterfall"
           }
          ]
         },
         "layout": {
          "coloraxis": {
           "colorscale": [
            [
             0,
             "#000011"
            ],
            [
             0.1111111111111111,
             "#000012"
            ],
            [
             0.2222222222222222,
             "#000013"
            ],
            [
             0.3333333333333333,
             "#000014"
            ],
            [
             0.4444444444444444,
             "#000015"
            ],
            [
             0.5555555555555556,
             "#000016"
            ],
            [
             0.6666666666666666,
             "#000017"
            ],
            [
             0.7777777777777778,
             "#000018"
            ],
            [
             0.8888888888888888,
             "#000019"
            ],
            [
             1,
             "#000020"
            ]
           ]
          },
          "colorscale": {
           "diverging": [
            [
             0,
             "#000021"
            ],
            [
             0.1,
             "#000022"
            ],
            [
             0.2,
             "#000023"
            ],
            [
             0.3,
             "#000024"
            ],
            [
             0.4,
             "#000025"
            ],
            [
             0.5,
             "#000026"
            ],
            [
             0.6,
             "#000027"
            ],
            [
             0.7,
             "#000028"
            ],
            [
             0.8,
             "#000029"
            ],
            [
             0.9,
             "#000030"
            ],
            [
             1,
             "#000031"
            ]
           ],
           "sequential": [
            [
             0,
             "#000011"
            ],
            [
             0.1111111111111111,
             "#000012"
            ],
            [
             0.2222222222222222,
             "#000013"
            ],
            [
             0.3333333333333333,
             "#000014"
            ],
            [
             0.4444444444444444,
             "#000015"
            ],
            [
             0.5555555555555556,
             "#000016"
            ],
            [
             0.6666666666666666,
             "#000017"
            ],
            [
             0.7777777777777778,
             "#000018"
            ],
            [
             0.8888888888888888,
             "#000019"
            ],
            [
             1,
             "#000020"
            ]
           ],
           "sequentialminus": [
            [
             0,
             "#000011"
            ],
            [
             0.1111111111111111,
             "#000012"
            ],
            [
             0.2222222222222222,
             "#000013"
            ],
            [
             0.3333333333333333,
             "#000014"
            ],
            [
             0.4444444444444444,
             "#000015"
            ],
            [
             0.5555555555555556,
             "#000016"
            ],
            [
             0.6666666666666666,
             "#000017"
            ],
            [
             0.7777777777777778,
             "#000018"
            ],
            [
             0.8888888888888888,
             "#000019"
            ],
            [
             1,
             "#000020"
            ]
           ]
          },
          "colorway": [
           "#000001",
           "#000002",
           "#000003",
           "#000004",
           "#000005",
           "#000006",
           "#000007",
           "#000008",
           "#000009",
           "#000010"
          ]
         }
        },
        "xaxis": {
         "anchor": "y",
         "domain": [
          0,
          1
         ],
         "title": {
          "text": "x"
         }
        },
        "yaxis": {
         "anchor": "x",
         "domain": [
          0,
          1
         ],
         "title": {
          "text": "y"
         }
        }
       }
      }
     },
     "metadata": {},
     "output_type": "display_data"
    }
   ],
   "source": [
    "tsne_pipeline = Pipeline([('scaler', StandardScaler()), ('tsne', TSNE(n_components=2, verbose=1))])\n",
    "genre_embedding = tsne_pipeline.fit_transform(X)\n",
    "projection = pd.DataFrame(columns=['x', 'y'], data=genre_embedding)\n",
    "projection['genres'] = playlist_df['genres']\n",
    "projection['cluster'] = playlist_df['cluster']\n",
    "\n",
    "fig = px.scatter(projection, x='x', y='y', color='cluster', hover_data=['x', 'y', 'genres'])\n",
    "fig.show()"
   ]
  },
  {
   "cell_type": "code",
   "execution_count": 22,
   "metadata": {},
   "outputs": [],
   "source": [
    "def get_audio_features(song_name, artist):\n",
    "    query = f\"track:{song_name} artist:{artist}\"\n",
    "    results = sp.search(q=query, type='track', limit=1)\n",
    "\n",
    "    if len(results['tracks']['items']) > 0:\n",
    "        track_id = results['tracks']['items'][0]['id']\n",
    "        track_features = sp.audio_features([track_id])\n",
    "        \n",
    "        if len(track_features) > 0:\n",
    "            track_info = sp.track(track_id)\n",
    "            popularity = track_info['popularity']\n",
    "            \n",
    "            numerical_features = {key: value for key, value in track_features[0].items() if isinstance(value, (int, float))}\n",
    "            numerical_features['popularity'] = popularity\n",
    "            return numerical_features\n",
    "    return None"
   ]
  },
  {
   "cell_type": "code",
   "execution_count": 23,
   "metadata": {},
   "outputs": [],
   "source": [
    "audio_feats = get_audio_features('Dynamite', 'BTS')"
   ]
  },
  {
   "cell_type": "code",
   "execution_count": 24,
   "metadata": {},
   "outputs": [],
   "source": [
    "def knn(k, X, y, audio_feats):\n",
    "    scaler = StandardScaler()\n",
    "    X_scaled = scaler.fit_transform(X)\n",
    "\n",
    "    knn = KNeighborsClassifier(n_neighbors=k)\n",
    "    knn.fit(X_scaled, y)\n",
    "\n",
    "    num_feat = pd.DataFrame.from_dict(audio_feats, orient='index').T\n",
    "    num_feat = num_feat[COLS]\n",
    "\n",
    "    new_input_scaled = scaler.transform(num_feat.values.reshape(1, -1))\n",
    "\n",
    "    distances, indices = knn.kneighbors(new_input_scaled)\n",
    "    \n",
    "    nearest_songs = playlist_df.iloc[indices[0]]\n",
    "\n",
    "    print(\"Nearest Songs:\")\n",
    "    print(playlist_df['track_name'], playlist_df['artist_name'])\n",
    "    return nearest_songs['genres'],  playlist_df['track_name'], playlist_df['artist_name']\n"
   ]
  },
  {
   "cell_type": "code",
   "execution_count": 25,
   "metadata": {},
   "outputs": [
    {
     "name": "stdout",
     "output_type": "stream",
     "text": [
      "Nearest Songs:\n",
      "0                                           Cruel Summer\n",
      "1                                                vampire\n",
      "2      Popular (with Playboi Carti & Madonna) - Music...\n",
      "3                Dance The Night (From Barbie The Album)\n",
      "4                                         WHERE SHE GOES\n",
      "                             ...                        \n",
      "670                                     The art of dying\n",
      "671                                            Inis Mona\n",
      "672                                       Ich tu dir weh\n",
      "673                                Right Side Of The Bed\n",
      "674                               In the Name of Tragedy\n",
      "Name: track_name, Length: 675, dtype: object 0        Taylor Swift\n",
      "1      Olivia Rodrigo\n",
      "2          The Weeknd\n",
      "3            Dua Lipa\n",
      "4           Bad Bunny\n",
      "            ...      \n",
      "670            Gojira\n",
      "671         Eluveitie\n",
      "672         Rammstein\n",
      "673            Atreyu\n",
      "674         Motörhead\n",
      "Name: artist_name, Length: 675, dtype: object\n"
     ]
    },
    {
     "data": {
      "text/plain": [
       "(615    ['alternative metal', 'funk metal', 'hard rock...\n",
       " 286                       ['dance pop', 'pop', 'uk pop']\n",
       " 219                     ['pixie', 'pop emo', 'pop punk']\n",
       " 6                                                ['pop']\n",
       " 211    ['emo', 'modern rock', 'pop', 'pop punk', 'rock']\n",
       " Name: genres, dtype: object,\n",
       " 0                                           Cruel Summer\n",
       " 1                                                vampire\n",
       " 2      Popular (with Playboi Carti & Madonna) - Music...\n",
       " 3                Dance The Night (From Barbie The Album)\n",
       " 4                                         WHERE SHE GOES\n",
       "                              ...                        \n",
       " 670                                     The art of dying\n",
       " 671                                            Inis Mona\n",
       " 672                                       Ich tu dir weh\n",
       " 673                                Right Side Of The Bed\n",
       " 674                               In the Name of Tragedy\n",
       " Name: track_name, Length: 675, dtype: object,\n",
       " 0        Taylor Swift\n",
       " 1      Olivia Rodrigo\n",
       " 2          The Weeknd\n",
       " 3            Dua Lipa\n",
       " 4           Bad Bunny\n",
       "             ...      \n",
       " 670            Gojira\n",
       " 671         Eluveitie\n",
       " 672         Rammstein\n",
       " 673            Atreyu\n",
       " 674         Motörhead\n",
       " Name: artist_name, Length: 675, dtype: object)"
      ]
     },
     "execution_count": 25,
     "metadata": {},
     "output_type": "execute_result"
    }
   ],
   "source": [
    "knn(5, X, y, audio_feats)"
   ]
  }
 ],
 "metadata": {
  "kernelspec": {
   "display_name": "env",
   "language": "python",
   "name": "python3"
  },
  "language_info": {
   "codemirror_mode": {
    "name": "ipython",
    "version": 3
   },
   "file_extension": ".py",
   "mimetype": "text/x-python",
   "name": "python",
   "nbconvert_exporter": "python",
   "pygments_lexer": "ipython3",
   "version": "3.8.5"
  },
  "orig_nbformat": 4
 },
 "nbformat": 4,
 "nbformat_minor": 2
}
